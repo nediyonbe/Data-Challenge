{
 "cells": [
  {
   "cell_type": "markdown",
   "metadata": {},
   "source": [
    "# Description\n",
    "* You've just joined the data team at an online publishing company. \n",
    "* One of your verticals is a food publication. \n",
    "* A product manager on your team wants to build a feature for this vertical that enables users to query by cuisine, not just by ingredients. \n",
    "* All of your recipes are unlabeled, and it's infeasible to label them by hand.\n",
    "* Design and execute a method to group the recipes by cuisine. \n",
    "* How could you design this to be robust enough to understand similarities / substitutions between ingredients? \n",
    "* For each each major cuisine, what are the driving ingredients that characterize it?\n",
    "* Your product manager indicates a likelihood that you will only need to write a guideline for an outsourced team to hand label the remaining corpus. \n",
    "* How would you go about writing this guide for a few major cuisines?"
   ]
  },
  {
   "cell_type": "code",
   "execution_count": 443,
   "metadata": {
    "collapsed": true
   },
   "outputs": [],
   "source": [
    "import json \n",
    "import ast\n",
    "import pandas as pd \n",
    "from pandas.io.json import json_normalize #package for flattening json in pandas df\n",
    "import matplotlib.pyplot as plt\n",
    "import seaborn as sns\n",
    "import re\n",
    "import seaborn as sns; sns.set()  # for plot styling\n",
    "import numpy as np\n",
    "from sklearn.cluster import KMeans\n",
    "from sklearn.feature_extraction.text import CountVectorizer\n",
    "from sklearn.feature_extraction.text import TfidfVectorizer"
   ]
  },
  {
   "cell_type": "code",
   "execution_count": 444,
   "metadata": {
    "collapsed": true
   },
   "outputs": [],
   "source": [
    "df = pd.read_json('C:/Users/Ali/Documents/Insight/Data Challenge/Week6 Confounded Cuisiner/unlabelled_recipies.json')"
   ]
  },
  {
   "cell_type": "code",
   "execution_count": 445,
   "metadata": {},
   "outputs": [
    {
     "data": {
      "text/html": [
       "<div>\n",
       "<style scoped>\n",
       "    .dataframe tbody tr th:only-of-type {\n",
       "        vertical-align: middle;\n",
       "    }\n",
       "\n",
       "    .dataframe tbody tr th {\n",
       "        vertical-align: top;\n",
       "    }\n",
       "\n",
       "    .dataframe thead th {\n",
       "        text-align: right;\n",
       "    }\n",
       "</style>\n",
       "<table border=\"1\" class=\"dataframe\">\n",
       "  <thead>\n",
       "    <tr style=\"text-align: right;\">\n",
       "      <th></th>\n",
       "      <th>ingredients</th>\n",
       "    </tr>\n",
       "  </thead>\n",
       "  <tbody>\n",
       "    <tr>\n",
       "      <th>0</th>\n",
       "      <td>[pepper, bacon, russet potatoes, sugar, onions...</td>\n",
       "    </tr>\n",
       "    <tr>\n",
       "      <th>1</th>\n",
       "      <td>['rib', 'carrots', 'leeks', 'unsalted butter',...</td>\n",
       "    </tr>\n",
       "    <tr>\n",
       "      <th>10</th>\n",
       "      <td>[orzo, garlic, heavy cream, white wine, spinac...</td>\n",
       "    </tr>\n",
       "    <tr>\n",
       "      <th>100</th>\n",
       "      <td>['garlic', 'ginger', 'fish sauce', 'chayotes',...</td>\n",
       "    </tr>\n",
       "    <tr>\n",
       "      <th>1000</th>\n",
       "      <td>[onions, avocado, salt, coconut cream, cumin s...</td>\n",
       "    </tr>\n",
       "  </tbody>\n",
       "</table>\n",
       "</div>"
      ],
      "text/plain": [
       "                                            ingredients\n",
       "0     [pepper, bacon, russet potatoes, sugar, onions...\n",
       "1     ['rib', 'carrots', 'leeks', 'unsalted butter',...\n",
       "10    [orzo, garlic, heavy cream, white wine, spinac...\n",
       "100   ['garlic', 'ginger', 'fish sauce', 'chayotes',...\n",
       "1000  [onions, avocado, salt, coconut cream, cumin s..."
      ]
     },
     "execution_count": 445,
     "metadata": {},
     "output_type": "execute_result"
    }
   ],
   "source": [
    "df.head()"
   ]
  },
  {
   "cell_type": "code",
   "execution_count": 446,
   "metadata": {},
   "outputs": [
    {
     "name": "stdout",
     "output_type": "stream",
     "text": [
      "['rib', 'carrots', 'leeks', 'unsalted butter', 'finely chopped onion', 'baking potatoes', 'dry white wine', 'half & half', 'water', 'bay leaf', 'dried thyme', 'chicken broth', 'saffron threads'] <class 'str'>\n"
     ]
    }
   ],
   "source": [
    "print(df['ingredients'][1], type(df['ingredients'][1]))"
   ]
  },
  {
   "cell_type": "code",
   "execution_count": 447,
   "metadata": {
    "collapsed": true
   },
   "outputs": [],
   "source": [
    " df['ingredients'][1] = ast.literal_eval(df['ingredients'][1])"
   ]
  },
  {
   "cell_type": "code",
   "execution_count": 448,
   "metadata": {
    "collapsed": true
   },
   "outputs": [],
   "source": [
    "for i in range(len(df['ingredients'])):\n",
    "    if type(df['ingredients'][i]) == str:\n",
    "        df['ingredients'][i] = ast.literal_eval(df['ingredients'][i])"
   ]
  },
  {
   "cell_type": "code",
   "execution_count": 449,
   "metadata": {},
   "outputs": [
    {
     "data": {
      "text/plain": [
       "list"
      ]
     },
     "execution_count": 449,
     "metadata": {},
     "output_type": "execute_result"
    }
   ],
   "source": [
    "type(df['ingredients'][1])"
   ]
  },
  {
   "cell_type": "code",
   "execution_count": 450,
   "metadata": {},
   "outputs": [
    {
     "data": {
      "text/html": [
       "<div>\n",
       "<style scoped>\n",
       "    .dataframe tbody tr th:only-of-type {\n",
       "        vertical-align: middle;\n",
       "    }\n",
       "\n",
       "    .dataframe tbody tr th {\n",
       "        vertical-align: top;\n",
       "    }\n",
       "\n",
       "    .dataframe thead th {\n",
       "        text-align: right;\n",
       "    }\n",
       "</style>\n",
       "<table border=\"1\" class=\"dataframe\">\n",
       "  <thead>\n",
       "    <tr style=\"text-align: right;\">\n",
       "      <th></th>\n",
       "      <th>ingredients</th>\n",
       "    </tr>\n",
       "  </thead>\n",
       "  <tbody>\n",
       "    <tr>\n",
       "      <th>0</th>\n",
       "      <td>[pepper, bacon, russet potatoes, sugar, onions...</td>\n",
       "    </tr>\n",
       "    <tr>\n",
       "      <th>1</th>\n",
       "      <td>[rib, carrots, leeks, unsalted butter, finely ...</td>\n",
       "    </tr>\n",
       "    <tr>\n",
       "      <th>10</th>\n",
       "      <td>[orzo, garlic, heavy cream, white wine, spinac...</td>\n",
       "    </tr>\n",
       "    <tr>\n",
       "      <th>100</th>\n",
       "      <td>[garlic, ginger, fish sauce, chayotes, cooking...</td>\n",
       "    </tr>\n",
       "    <tr>\n",
       "      <th>1000</th>\n",
       "      <td>[onions, avocado, salt, coconut cream, cumin s...</td>\n",
       "    </tr>\n",
       "  </tbody>\n",
       "</table>\n",
       "</div>"
      ],
      "text/plain": [
       "                                            ingredients\n",
       "0     [pepper, bacon, russet potatoes, sugar, onions...\n",
       "1     [rib, carrots, leeks, unsalted butter, finely ...\n",
       "10    [orzo, garlic, heavy cream, white wine, spinac...\n",
       "100   [garlic, ginger, fish sauce, chayotes, cooking...\n",
       "1000  [onions, avocado, salt, coconut cream, cumin s..."
      ]
     },
     "execution_count": 450,
     "metadata": {},
     "output_type": "execute_result"
    }
   ],
   "source": [
    "df.head()"
   ]
  },
  {
   "cell_type": "code",
   "execution_count": 451,
   "metadata": {
    "collapsed": true
   },
   "outputs": [],
   "source": [
    "df_clean = df.reset_index(drop=True)\n",
    "for i in range(0,len(df_clean.index)):\n",
    "    row=df_clean[df_clean.columns[0]][i]\n",
    "    if type(row)==str:\n",
    "        df_clean[df_clean.columns[0]][i] = row.replace(\"'\",\"\").replace('[','').replace(']','').split(\",\")"
   ]
  },
  {
   "cell_type": "code",
   "execution_count": 452,
   "metadata": {},
   "outputs": [
    {
     "data": {
      "text/html": [
       "<div>\n",
       "<style scoped>\n",
       "    .dataframe tbody tr th:only-of-type {\n",
       "        vertical-align: middle;\n",
       "    }\n",
       "\n",
       "    .dataframe tbody tr th {\n",
       "        vertical-align: top;\n",
       "    }\n",
       "\n",
       "    .dataframe thead th {\n",
       "        text-align: right;\n",
       "    }\n",
       "</style>\n",
       "<table border=\"1\" class=\"dataframe\">\n",
       "  <thead>\n",
       "    <tr style=\"text-align: right;\">\n",
       "      <th></th>\n",
       "      <th>ingredients</th>\n",
       "    </tr>\n",
       "  </thead>\n",
       "  <tbody>\n",
       "    <tr>\n",
       "      <th>0</th>\n",
       "      <td>[pepper, bacon, russet potatoes, sugar, onions...</td>\n",
       "    </tr>\n",
       "    <tr>\n",
       "      <th>1</th>\n",
       "      <td>[rib, carrots, leeks, unsalted butter, finely ...</td>\n",
       "    </tr>\n",
       "    <tr>\n",
       "      <th>2</th>\n",
       "      <td>[orzo, garlic, heavy cream, white wine, spinac...</td>\n",
       "    </tr>\n",
       "    <tr>\n",
       "      <th>3</th>\n",
       "      <td>[garlic, ginger, fish sauce, chayotes, cooking...</td>\n",
       "    </tr>\n",
       "    <tr>\n",
       "      <th>4</th>\n",
       "      <td>[onions, avocado, salt, coconut cream, cumin s...</td>\n",
       "    </tr>\n",
       "  </tbody>\n",
       "</table>\n",
       "</div>"
      ],
      "text/plain": [
       "                                         ingredients\n",
       "0  [pepper, bacon, russet potatoes, sugar, onions...\n",
       "1  [rib, carrots, leeks, unsalted butter, finely ...\n",
       "2  [orzo, garlic, heavy cream, white wine, spinac...\n",
       "3  [garlic, ginger, fish sauce, chayotes, cooking...\n",
       "4  [onions, avocado, salt, coconut cream, cumin s..."
      ]
     },
     "execution_count": 452,
     "metadata": {},
     "output_type": "execute_result"
    }
   ],
   "source": [
    "df_clean.head()"
   ]
  },
  {
   "cell_type": "code",
   "execution_count": 453,
   "metadata": {
    "collapsed": true
   },
   "outputs": [],
   "source": [
    "df_clean[\"ingredients_manip\"] = df_clean[\"ingredients\"].apply(lambda x:(\",\".join(x)))"
   ]
  },
  {
   "cell_type": "code",
   "execution_count": 454,
   "metadata": {},
   "outputs": [
    {
     "data": {
      "text/html": [
       "<div>\n",
       "<style scoped>\n",
       "    .dataframe tbody tr th:only-of-type {\n",
       "        vertical-align: middle;\n",
       "    }\n",
       "\n",
       "    .dataframe tbody tr th {\n",
       "        vertical-align: top;\n",
       "    }\n",
       "\n",
       "    .dataframe thead th {\n",
       "        text-align: right;\n",
       "    }\n",
       "</style>\n",
       "<table border=\"1\" class=\"dataframe\">\n",
       "  <thead>\n",
       "    <tr style=\"text-align: right;\">\n",
       "      <th></th>\n",
       "      <th>ingredients</th>\n",
       "      <th>ingredients_manip</th>\n",
       "    </tr>\n",
       "  </thead>\n",
       "  <tbody>\n",
       "    <tr>\n",
       "      <th>0</th>\n",
       "      <td>[pepper, bacon, russet potatoes, sugar, onions...</td>\n",
       "      <td>pepper,bacon,russet potatoes,sugar,onions,goch...</td>\n",
       "    </tr>\n",
       "    <tr>\n",
       "      <th>1</th>\n",
       "      <td>[rib, carrots, leeks, unsalted butter, finely ...</td>\n",
       "      <td>rib,carrots,leeks,unsalted butter,finely chopp...</td>\n",
       "    </tr>\n",
       "    <tr>\n",
       "      <th>2</th>\n",
       "      <td>[orzo, garlic, heavy cream, white wine, spinac...</td>\n",
       "      <td>orzo,garlic,heavy cream,white wine,spinach,egg...</td>\n",
       "    </tr>\n",
       "    <tr>\n",
       "      <th>3</th>\n",
       "      <td>[garlic, ginger, fish sauce, chayotes, cooking...</td>\n",
       "      <td>garlic,ginger,fish sauce,chayotes,cooking oil,...</td>\n",
       "    </tr>\n",
       "    <tr>\n",
       "      <th>4</th>\n",
       "      <td>[onions, avocado, salt, coconut cream, cumin s...</td>\n",
       "      <td>onions,avocado,salt,coconut cream,cumin seed,t...</td>\n",
       "    </tr>\n",
       "  </tbody>\n",
       "</table>\n",
       "</div>"
      ],
      "text/plain": [
       "                                         ingredients  \\\n",
       "0  [pepper, bacon, russet potatoes, sugar, onions...   \n",
       "1  [rib, carrots, leeks, unsalted butter, finely ...   \n",
       "2  [orzo, garlic, heavy cream, white wine, spinac...   \n",
       "3  [garlic, ginger, fish sauce, chayotes, cooking...   \n",
       "4  [onions, avocado, salt, coconut cream, cumin s...   \n",
       "\n",
       "                                   ingredients_manip  \n",
       "0  pepper,bacon,russet potatoes,sugar,onions,goch...  \n",
       "1  rib,carrots,leeks,unsalted butter,finely chopp...  \n",
       "2  orzo,garlic,heavy cream,white wine,spinach,egg...  \n",
       "3  garlic,ginger,fish sauce,chayotes,cooking oil,...  \n",
       "4  onions,avocado,salt,coconut cream,cumin seed,t...  "
      ]
     },
     "execution_count": 454,
     "metadata": {},
     "output_type": "execute_result"
    }
   ],
   "source": [
    "df_clean.head()"
   ]
  },
  {
   "cell_type": "code",
   "execution_count": 465,
   "metadata": {
    "collapsed": true
   },
   "outputs": [],
   "source": [
    "df_clean[\"ingredients_manip2\"] = df_clean[\"ingredients_manip\"].apply(lambda x:(x.replace(\" \",\"-\")))"
   ]
  },
  {
   "cell_type": "code",
   "execution_count": 466,
   "metadata": {},
   "outputs": [
    {
     "data": {
      "text/html": [
       "<div>\n",
       "<style scoped>\n",
       "    .dataframe tbody tr th:only-of-type {\n",
       "        vertical-align: middle;\n",
       "    }\n",
       "\n",
       "    .dataframe tbody tr th {\n",
       "        vertical-align: top;\n",
       "    }\n",
       "\n",
       "    .dataframe thead th {\n",
       "        text-align: right;\n",
       "    }\n",
       "</style>\n",
       "<table border=\"1\" class=\"dataframe\">\n",
       "  <thead>\n",
       "    <tr style=\"text-align: right;\">\n",
       "      <th></th>\n",
       "      <th>ingredients</th>\n",
       "      <th>ingredients_manip</th>\n",
       "      <th>ingredients_manip2</th>\n",
       "    </tr>\n",
       "  </thead>\n",
       "  <tbody>\n",
       "    <tr>\n",
       "      <th>0</th>\n",
       "      <td>[pepper, bacon, russet potatoes, sugar, onions...</td>\n",
       "      <td>pepper,bacon,russet potatoes,sugar,onions,goch...</td>\n",
       "      <td>pepper,bacon,russet-potatoes,sugar,onions,goch...</td>\n",
       "    </tr>\n",
       "    <tr>\n",
       "      <th>1</th>\n",
       "      <td>[rib, carrots, leeks, unsalted butter, finely ...</td>\n",
       "      <td>rib,carrots,leeks,unsalted butter,finely chopp...</td>\n",
       "      <td>rib,carrots,leeks,unsalted-butter,finely-chopp...</td>\n",
       "    </tr>\n",
       "    <tr>\n",
       "      <th>2</th>\n",
       "      <td>[orzo, garlic, heavy cream, white wine, spinac...</td>\n",
       "      <td>orzo,garlic,heavy cream,white wine,spinach,egg...</td>\n",
       "      <td>orzo,garlic,heavy-cream,white-wine,spinach,egg...</td>\n",
       "    </tr>\n",
       "    <tr>\n",
       "      <th>3</th>\n",
       "      <td>[garlic, ginger, fish sauce, chayotes, cooking...</td>\n",
       "      <td>garlic,ginger,fish sauce,chayotes,cooking oil,...</td>\n",
       "      <td>garlic,ginger,fish-sauce,chayotes,cooking-oil,...</td>\n",
       "    </tr>\n",
       "    <tr>\n",
       "      <th>4</th>\n",
       "      <td>[onions, avocado, salt, coconut cream, cumin s...</td>\n",
       "      <td>onions,avocado,salt,coconut cream,cumin seed,t...</td>\n",
       "      <td>onions,avocado,salt,coconut-cream,cumin-seed,t...</td>\n",
       "    </tr>\n",
       "  </tbody>\n",
       "</table>\n",
       "</div>"
      ],
      "text/plain": [
       "                                         ingredients  \\\n",
       "0  [pepper, bacon, russet potatoes, sugar, onions...   \n",
       "1  [rib, carrots, leeks, unsalted butter, finely ...   \n",
       "2  [orzo, garlic, heavy cream, white wine, spinac...   \n",
       "3  [garlic, ginger, fish sauce, chayotes, cooking...   \n",
       "4  [onions, avocado, salt, coconut cream, cumin s...   \n",
       "\n",
       "                                   ingredients_manip  \\\n",
       "0  pepper,bacon,russet potatoes,sugar,onions,goch...   \n",
       "1  rib,carrots,leeks,unsalted butter,finely chopp...   \n",
       "2  orzo,garlic,heavy cream,white wine,spinach,egg...   \n",
       "3  garlic,ginger,fish sauce,chayotes,cooking oil,...   \n",
       "4  onions,avocado,salt,coconut cream,cumin seed,t...   \n",
       "\n",
       "                                  ingredients_manip2  \n",
       "0  pepper,bacon,russet-potatoes,sugar,onions,goch...  \n",
       "1  rib,carrots,leeks,unsalted-butter,finely-chopp...  \n",
       "2  orzo,garlic,heavy-cream,white-wine,spinach,egg...  \n",
       "3  garlic,ginger,fish-sauce,chayotes,cooking-oil,...  \n",
       "4  onions,avocado,salt,coconut-cream,cumin-seed,t...  "
      ]
     },
     "execution_count": 466,
     "metadata": {},
     "output_type": "execute_result"
    }
   ],
   "source": [
    "df_clean.head()"
   ]
  },
  {
   "cell_type": "markdown",
   "metadata": {},
   "source": [
    "Remove any digit kept as string: this must be done before tfidf step"
   ]
  },
  {
   "cell_type": "code",
   "execution_count": 468,
   "metadata": {
    "collapsed": true
   },
   "outputs": [],
   "source": [
    "for i in range(len(df_clean['ingredients_manip2'])):\n",
    "    df_clean['ingredients_manip2'][i] = ''.join([x for x in df_clean['ingredients_manip2'][i] if not x.isdigit()])"
   ]
  },
  {
   "cell_type": "code",
   "execution_count": 541,
   "metadata": {},
   "outputs": [
    {
     "data": {
      "text/plain": [
       "False"
      ]
     },
     "execution_count": 541,
     "metadata": {},
     "output_type": "execute_result"
    }
   ],
   "source": [
    "'00' in tf.vocabulary_.keys()"
   ]
  },
  {
   "cell_type": "code",
   "execution_count": 469,
   "metadata": {},
   "outputs": [
    {
     "data": {
      "text/html": [
       "<div>\n",
       "<style scoped>\n",
       "    .dataframe tbody tr th:only-of-type {\n",
       "        vertical-align: middle;\n",
       "    }\n",
       "\n",
       "    .dataframe tbody tr th {\n",
       "        vertical-align: top;\n",
       "    }\n",
       "\n",
       "    .dataframe thead th {\n",
       "        text-align: right;\n",
       "    }\n",
       "</style>\n",
       "<table border=\"1\" class=\"dataframe\">\n",
       "  <thead>\n",
       "    <tr style=\"text-align: right;\">\n",
       "      <th></th>\n",
       "      <th>ingredients</th>\n",
       "      <th>ingredients_manip</th>\n",
       "      <th>ingredients_manip2</th>\n",
       "    </tr>\n",
       "  </thead>\n",
       "  <tbody>\n",
       "    <tr>\n",
       "      <th>0</th>\n",
       "      <td>[pepper, bacon, russet potatoes, sugar, onions...</td>\n",
       "      <td>pepper,bacon,russet potatoes,sugar,onions,goch...</td>\n",
       "      <td>pepper,bacon,russet-potatoes,sugar,onions,goch...</td>\n",
       "    </tr>\n",
       "    <tr>\n",
       "      <th>1</th>\n",
       "      <td>[rib, carrots, leeks, unsalted butter, finely ...</td>\n",
       "      <td>rib,carrots,leeks,unsalted butter,finely chopp...</td>\n",
       "      <td>rib,carrots,leeks,unsalted-butter,finely-chopp...</td>\n",
       "    </tr>\n",
       "    <tr>\n",
       "      <th>2</th>\n",
       "      <td>[orzo, garlic, heavy cream, white wine, spinac...</td>\n",
       "      <td>orzo,garlic,heavy cream,white wine,spinach,egg...</td>\n",
       "      <td>orzo,garlic,heavy-cream,white-wine,spinach,egg...</td>\n",
       "    </tr>\n",
       "    <tr>\n",
       "      <th>3</th>\n",
       "      <td>[garlic, ginger, fish sauce, chayotes, cooking...</td>\n",
       "      <td>garlic,ginger,fish sauce,chayotes,cooking oil,...</td>\n",
       "      <td>garlic,ginger,fish-sauce,chayotes,cooking-oil,...</td>\n",
       "    </tr>\n",
       "    <tr>\n",
       "      <th>4</th>\n",
       "      <td>[onions, avocado, salt, coconut cream, cumin s...</td>\n",
       "      <td>onions,avocado,salt,coconut cream,cumin seed,t...</td>\n",
       "      <td>onions,avocado,salt,coconut-cream,cumin-seed,t...</td>\n",
       "    </tr>\n",
       "  </tbody>\n",
       "</table>\n",
       "</div>"
      ],
      "text/plain": [
       "                                         ingredients  \\\n",
       "0  [pepper, bacon, russet potatoes, sugar, onions...   \n",
       "1  [rib, carrots, leeks, unsalted butter, finely ...   \n",
       "2  [orzo, garlic, heavy cream, white wine, spinac...   \n",
       "3  [garlic, ginger, fish sauce, chayotes, cooking...   \n",
       "4  [onions, avocado, salt, coconut cream, cumin s...   \n",
       "\n",
       "                                   ingredients_manip  \\\n",
       "0  pepper,bacon,russet potatoes,sugar,onions,goch...   \n",
       "1  rib,carrots,leeks,unsalted butter,finely chopp...   \n",
       "2  orzo,garlic,heavy cream,white wine,spinach,egg...   \n",
       "3  garlic,ginger,fish sauce,chayotes,cooking oil,...   \n",
       "4  onions,avocado,salt,coconut cream,cumin seed,t...   \n",
       "\n",
       "                                  ingredients_manip2  \n",
       "0  pepper,bacon,russet-potatoes,sugar,onions,goch...  \n",
       "1  rib,carrots,leeks,unsalted-butter,finely-chopp...  \n",
       "2  orzo,garlic,heavy-cream,white-wine,spinach,egg...  \n",
       "3  garlic,ginger,fish-sauce,chayotes,cooking-oil,...  \n",
       "4  onions,avocado,salt,coconut-cream,cumin-seed,t...  "
      ]
     },
     "execution_count": 469,
     "metadata": {},
     "output_type": "execute_result"
    }
   ],
   "source": [
    "df_clean.head()"
   ]
  },
  {
   "cell_type": "code",
   "execution_count": 470,
   "metadata": {
    "collapsed": true
   },
   "outputs": [],
   "source": [
    "tf = TfidfVectorizer(smooth_idf=False, sublinear_tf=False, norm=None, analyzer='word')\n",
    "txt_fitted = tf.fit(df_clean['ingredients_manip2'])\n",
    "txt_transformed = txt_fitted.transform(df_clean['ingredients_manip2'])\n"
   ]
  },
  {
   "cell_type": "code",
   "execution_count": 471,
   "metadata": {
    "scrolled": true
   },
   "outputs": [
    {
     "name": "stdout",
     "output_type": "stream",
     "text": [
      "Features with lowest idf:\n",
      "['salt' 'oil' 'pepper']\n",
      "\n",
      "Features with highest idf:\n",
      "['licor' 'crabapples' 'flake']\n"
     ]
    }
   ],
   "source": [
    "feature_names = np.array(tf.get_feature_names())\n",
    "sorted_by_idf = np.argsort(tf.idf_)\n",
    "print(\"Features with lowest idf:\\n{}\".format(\n",
    "       feature_names[sorted_by_idf[:3]]))\n",
    "print(\"\\nFeatures with highest idf:\\n{}\".format(\n",
    "       feature_names[sorted_by_idf[-3:]]))"
   ]
  },
  {
   "cell_type": "code",
   "execution_count": 474,
   "metadata": {
    "collapsed": true
   },
   "outputs": [],
   "source": [
    "rr = dict(zip(txt_fitted.get_feature_names(), idf))"
   ]
  },
  {
   "cell_type": "code",
   "execution_count": 475,
   "metadata": {},
   "outputs": [
    {
     "data": {
      "text/html": [
       "<div>\n",
       "<style scoped>\n",
       "    .dataframe tbody tr th:only-of-type {\n",
       "        vertical-align: middle;\n",
       "    }\n",
       "\n",
       "    .dataframe tbody tr th {\n",
       "        vertical-align: top;\n",
       "    }\n",
       "\n",
       "    .dataframe thead th {\n",
       "        text-align: right;\n",
       "    }\n",
       "</style>\n",
       "<table border=\"1\" class=\"dataframe\">\n",
       "  <thead>\n",
       "    <tr style=\"text-align: right;\">\n",
       "      <th></th>\n",
       "      <th>token</th>\n",
       "      <th>weight</th>\n",
       "    </tr>\n",
       "  </thead>\n",
       "  <tbody>\n",
       "    <tr>\n",
       "      <th>544</th>\n",
       "      <td>chimichurri</td>\n",
       "      <td>11.590969</td>\n",
       "    </tr>\n",
       "    <tr>\n",
       "      <th>1868</th>\n",
       "      <td>orchid</td>\n",
       "      <td>11.590969</td>\n",
       "    </tr>\n",
       "    <tr>\n",
       "      <th>1854</th>\n",
       "      <td>olie</td>\n",
       "      <td>11.590969</td>\n",
       "    </tr>\n",
       "    <tr>\n",
       "      <th>623</th>\n",
       "      <td>colada</td>\n",
       "      <td>11.590969</td>\n",
       "    </tr>\n",
       "    <tr>\n",
       "      <th>1847</th>\n",
       "      <td>ogura</td>\n",
       "      <td>11.590969</td>\n",
       "    </tr>\n",
       "    <tr>\n",
       "      <th>1844</th>\n",
       "      <td>ocean</td>\n",
       "      <td>11.590969</td>\n",
       "    </tr>\n",
       "    <tr>\n",
       "      <th>1833</th>\n",
       "      <td>nuggets</td>\n",
       "      <td>11.590969</td>\n",
       "    </tr>\n",
       "    <tr>\n",
       "      <th>631</th>\n",
       "      <td>colman</td>\n",
       "      <td>11.590969</td>\n",
       "    </tr>\n",
       "    <tr>\n",
       "      <th>1832</th>\n",
       "      <td>nugget</td>\n",
       "      <td>11.590969</td>\n",
       "    </tr>\n",
       "    <tr>\n",
       "      <th>633</th>\n",
       "      <td>colorado</td>\n",
       "      <td>11.590969</td>\n",
       "    </tr>\n",
       "    <tr>\n",
       "      <th>1821</th>\n",
       "      <td>nonhydrogenated</td>\n",
       "      <td>11.590969</td>\n",
       "    </tr>\n",
       "    <tr>\n",
       "      <th>637</th>\n",
       "      <td>comice</td>\n",
       "      <td>11.590969</td>\n",
       "    </tr>\n",
       "    <tr>\n",
       "      <th>1819</th>\n",
       "      <td>nondairy</td>\n",
       "      <td>11.590969</td>\n",
       "    </tr>\n",
       "    <tr>\n",
       "      <th>1812</th>\n",
       "      <td>nigari</td>\n",
       "      <td>11.590969</td>\n",
       "    </tr>\n",
       "    <tr>\n",
       "      <th>644</th>\n",
       "      <td>conchiglie</td>\n",
       "      <td>11.590969</td>\n",
       "    </tr>\n",
       "    <tr>\n",
       "      <th>1811</th>\n",
       "      <td>nielsen</td>\n",
       "      <td>11.590969</td>\n",
       "    </tr>\n",
       "    <tr>\n",
       "      <th>1810</th>\n",
       "      <td>nido</td>\n",
       "      <td>11.590969</td>\n",
       "    </tr>\n",
       "    <tr>\n",
       "      <th>647</th>\n",
       "      <td>cones</td>\n",
       "      <td>11.590969</td>\n",
       "    </tr>\n",
       "    <tr>\n",
       "      <th>1808</th>\n",
       "      <td>niblets</td>\n",
       "      <td>11.590969</td>\n",
       "    </tr>\n",
       "    <tr>\n",
       "      <th>650</th>\n",
       "      <td>conger</td>\n",
       "      <td>11.590969</td>\n",
       "    </tr>\n",
       "  </tbody>\n",
       "</table>\n",
       "</div>"
      ],
      "text/plain": [
       "                token     weight\n",
       "544       chimichurri  11.590969\n",
       "1868           orchid  11.590969\n",
       "1854             olie  11.590969\n",
       "623            colada  11.590969\n",
       "1847            ogura  11.590969\n",
       "1844            ocean  11.590969\n",
       "1833          nuggets  11.590969\n",
       "631            colman  11.590969\n",
       "1832           nugget  11.590969\n",
       "633          colorado  11.590969\n",
       "1821  nonhydrogenated  11.590969\n",
       "637            comice  11.590969\n",
       "1819         nondairy  11.590969\n",
       "1812           nigari  11.590969\n",
       "644        conchiglie  11.590969\n",
       "1811          nielsen  11.590969\n",
       "1810             nido  11.590969\n",
       "647             cones  11.590969\n",
       "1808          niblets  11.590969\n",
       "650            conger  11.590969"
      ]
     },
     "execution_count": 475,
     "metadata": {},
     "output_type": "execute_result"
    }
   ],
   "source": [
    "token_weight = pd.DataFrame.from_dict(rr, orient='index').reset_index()\n",
    "token_weight.columns=('token','weight')\n",
    "token_weight = token_weight.sort_values(by='weight', ascending=False)\n",
    "token_weight.head(20)"
   ]
  },
  {
   "cell_type": "code",
   "execution_count": 476,
   "metadata": {},
   "outputs": [
    {
     "data": {
      "image/png": "[encoded data removed]",
      "text/plain": [
       "<Figure size 1440x360 with 1 Axes>"
      ]
     },
     "metadata": {},
     "output_type": "display_data"
    }
   ],
   "source": [
    "sns.barplot(x='token', y='weight', data=token_weight.head(15))            \n",
    "plt.title(\"Inverse Document Frequency(idf) per token\")\n",
    "fig=plt.gcf()\n",
    "fig.set_size_inches(20,5)\n",
    "plt.show()"
   ]
  },
  {
   "cell_type": "code",
   "execution_count": 486,
   "metadata": {
    "collapsed": true
   },
   "outputs": [],
   "source": [
    "k_dict = {}"
   ]
  },
  {
   "cell_type": "code",
   "execution_count": 487,
   "metadata": {},
   "outputs": [
    {
     "name": "stdout",
     "output_type": "stream",
     "text": [
      "k: 1  cost: 13321544.521256834\n",
      "k: 2  cost: 13104453.308375783\n",
      "k: 3  cost: 12922433.447234403\n",
      "k: 4  cost: 12779706.26248348\n",
      "k: 5  cost: 12659435.963478243\n",
      "k: 6  cost: 12565002.408997254\n",
      "k: 7  cost: 12479528.462519528\n",
      "k: 8  cost: 12413724.99741085\n",
      "k: 9  cost: 12349549.648292325\n",
      "k: 10  cost: 12289353.38323321\n",
      "k: 11  cost: 12243786.502221232\n",
      "k: 12  cost: 12195122.272646822\n"
     ]
    }
   ],
   "source": [
    "for k in range (1, 13):\n",
    "    # Create a kmeans model on our data, using k clusters.  random_state helps ensure that the algorithm returns the same results each time.\n",
    "    kmeans_model = KMeans(n_clusters=k, random_state=1).fit(txt_transformed)\n",
    "\n",
    "    # These are our fitted labels for clusters -- the first cluster has label 0, and the second has label 1.\n",
    "    labels = kmeans_model.labels_    \n",
    "# Sum of distances of samples to their closest cluster center\n",
    "    interia = kmeans_model.inertia_\n",
    "    k_dict[k] = interia\n",
    "    print( \"k:\",k, \" cost:\", interia)"
   ]
  },
  {
   "cell_type": "code",
   "execution_count": 485,
   "metadata": {
    "collapsed": true
   },
   "outputs": [],
   "source": [
    "import pickle\n",
    "f = open('C:/Users/Ali/Documents/Insight/Data Challenge/Week6 Confounded Cuisiner/k_dict.pkl', 'wb')\n",
    "pickle.dump(k_dict, f)\n",
    "f.close()"
   ]
  },
  {
   "cell_type": "code",
   "execution_count": 497,
   "metadata": {},
   "outputs": [
    {
     "data": {
      "text/plain": [
       "list"
      ]
     },
     "execution_count": 497,
     "metadata": {},
     "output_type": "execute_result"
    }
   ],
   "source": [
    "type(list(k_dict.keys()))"
   ]
  },
  {
   "cell_type": "code",
   "execution_count": 515,
   "metadata": {},
   "outputs": [
    {
     "data": {
      "text/plain": [
       "(12100000.0, 13330000.0)"
      ]
     },
     "execution_count": 515,
     "metadata": {},
     "output_type": "execute_result"
    },
    {
     "data": {
      "image/png": "[encoded data removed]",
      "text/plain": [
       "<Figure size 432x288 with 1 Axes>"
      ]
     },
     "metadata": {},
     "output_type": "display_data"
    }
   ],
   "source": [
    "sns.set(style=\"whitegrid\")\n",
    "ax = sns.barplot(list(k_dict.keys()), list(k_dict.values()))\n",
    "import matplotlib.pyplot as plt\n",
    "plt.ylim(1.21e7, 1.333e7)"
   ]
  },
  {
   "cell_type": "code",
   "execution_count": 543,
   "metadata": {},
   "outputs": [
    {
     "name": "stdout",
     "output_type": "stream",
     "text": [
      "cluster count:  2, dispersion: 13104453.31, perc dispersion change w.r.t. previous cluster count: -1.63\n",
      "cluster count:  3, dispersion: 12922433.45, perc dispersion change w.r.t. previous cluster count: -1.39\n",
      "cluster count:  4, dispersion: 12779706.26, perc dispersion change w.r.t. previous cluster count: -1.10\n",
      "cluster count:  5, dispersion: 12659435.96, perc dispersion change w.r.t. previous cluster count: -0.94\n",
      "cluster count:  6, dispersion: 12565002.41, perc dispersion change w.r.t. previous cluster count: -0.75\n",
      "cluster count:  7, dispersion: 12479528.46, perc dispersion change w.r.t. previous cluster count: -0.68\n",
      "cluster count:  8, dispersion: 12413725.00, perc dispersion change w.r.t. previous cluster count: -0.53\n",
      "cluster count:  9, dispersion: 12349549.65, perc dispersion change w.r.t. previous cluster count: -0.52\n",
      "cluster count: 10, dispersion: 12289353.38, perc dispersion change w.r.t. previous cluster count: -0.49\n",
      "cluster count: 11, dispersion: 12243786.50, perc dispersion change w.r.t. previous cluster count: -0.37\n",
      "cluster count: 12, dispersion: 12195122.27, perc dispersion change w.r.t. previous cluster count: -0.40\n"
     ]
    }
   ],
   "source": [
    "for k in k_dict.keys():\n",
    "    if k == 1:\n",
    "        continue\n",
    "    else:\n",
    "        print(\"cluster count: %2d, dispersion: %10.2f, perc dispersion change w.r.t. previous cluster count: %2.2f\" % \n",
    "             (k, k_dict[k], 100*(k_dict[k] / k_dict[k-1] - 1)))"
   ]
  },
  {
   "cell_type": "markdown",
   "metadata": {},
   "source": [
    "* What is the right value of k? there is no perfect answer. \n",
    "* However the sum of distances of samples to their closest cluster center does not decrease significantly when the number of clusters is increased from 8 to 9\n",
    "* Using the resulting clusters, the chef can look at the recipes and tag them with respect to the prevailing cuisine"
   ]
  }
 ],
 "metadata": {
  "kernelspec": {
   "display_name": "Python 3",
   "language": "python",
   "name": "python3"
  },
  "language_info": {
   "codemirror_mode": {
    "name": "ipython",
    "version": 3
   },
   "file_extension": ".py",
   "mimetype": "text/x-python",
   "name": "python",
   "nbconvert_exporter": "python",
   "pygments_lexer": "ipython3",
   "version": "3.6.2"
  }
 },
 "nbformat": 4,
 "nbformat_minor": 2
}
