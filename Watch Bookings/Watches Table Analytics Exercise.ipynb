{
 "cells": [
  {
   "cell_type": "markdown",
   "metadata": {},
   "source": [
    "## Data Import and Check"
   ]
  },
  {
   "cell_type": "code",
   "execution_count": 1,
   "metadata": {},
   "outputs": [],
   "source": [
    "import pandas as pd\n",
    "import numpy as np \n",
    "import matplotlib.pyplot as plt\n",
    "import seaborn as sns; sns.set()\n",
    "from sklearn.metrics import roc_auc_score\n",
    "from sklearn.metrics import roc_curve\n",
    "from sklearn.linear_model import LogisticRegression\n",
    "from sklearn.metrics import classification_report\n",
    "from sklearn.model_selection import train_test_split\n",
    "from sklearn.metrics import accuracy_score\n",
    "from scipy import stats\n",
    "import statsmodels.api as sm\n",
    "from scipy.stats import mannwhitneyu\n",
    "import matplotlib.gridspec as gridspec"
   ]
  },
  {
   "cell_type": "markdown",
   "metadata": {},
   "source": [
    "* I import data and drop duplicates\n",
    "* I had tried to set the user id as index. Expectedly, it did not work as a user can have multiple trips. However the user - trip combination did not work either which revealed the entire rows duplicated\n",
    "* Once the duplicates are removed, the count of use -trip combinations reveal they constitute a unique key"
   ]
  },
  {
   "cell_type": "code",
   "execution_count": 5,
   "metadata": {},
   "outputs": [
    {
     "data": {
      "text/html": [
       "<div>\n",
       "<style scoped>\n",
       "    .dataframe tbody tr th:only-of-type {\n",
       "        vertical-align: middle;\n",
       "    }\n",
       "\n",
       "    .dataframe tbody tr th {\n",
       "        vertical-align: top;\n",
       "    }\n",
       "\n",
       "    .dataframe thead th {\n",
       "        text-align: right;\n",
       "    }\n",
       "</style>\n",
       "<table border=\"1\" class=\"dataframe\">\n",
       "  <thead>\n",
       "    <tr style=\"text-align: right;\">\n",
       "      <th></th>\n",
       "      <th>user_id</th>\n",
       "      <th>trip_id</th>\n",
       "      <th>count</th>\n",
       "    </tr>\n",
       "  </thead>\n",
       "  <tbody>\n",
       "    <tr>\n",
       "      <th>0</th>\n",
       "      <td>0000047cef6f4f75ca2dc57d4777932d3de4dcf6593da9...</td>\n",
       "      <td>6b0011957e76e00ef2fb704f01b64a7efbf4b066f2c78f...</td>\n",
       "      <td>1</td>\n",
       "    </tr>\n",
       "    <tr>\n",
       "      <th>528870</th>\n",
       "      <td>aaaa396bf8e4c82215bc0da4a0d3180de6df39e8870e52...</td>\n",
       "      <td>63f0102387c3d37278f9270c9495092e7d5db78d5c6ceb...</td>\n",
       "      <td>1</td>\n",
       "    </tr>\n",
       "    <tr>\n",
       "      <th>528896</th>\n",
       "      <td>aaabacacacfc88c7d9395d1202e5e32b678deb3de95b04...</td>\n",
       "      <td>e3fdd12f5e92499ebce67d366ce5667b43f562c7a06fd0...</td>\n",
       "      <td>1</td>\n",
       "    </tr>\n",
       "    <tr>\n",
       "      <th>528897</th>\n",
       "      <td>aaac33395341a9ce53d71cd32e12f028aeb790cff33a1e...</td>\n",
       "      <td>4cdb917e6d862e14a917c79af145408d0a8f020197d7b3...</td>\n",
       "      <td>1</td>\n",
       "    </tr>\n",
       "    <tr>\n",
       "      <th>528898</th>\n",
       "      <td>aaac67f43edd9784492db54e94291d02ee5b560002373a...</td>\n",
       "      <td>f9ace867825d0677161ca549f85856a346c803fe5ef24a...</td>\n",
       "      <td>1</td>\n",
       "    </tr>\n",
       "  </tbody>\n",
       "</table>\n",
       "</div>"
      ],
      "text/plain": [
       "                                                  user_id  \\\n",
       "0       0000047cef6f4f75ca2dc57d4777932d3de4dcf6593da9...   \n",
       "528870  aaaa396bf8e4c82215bc0da4a0d3180de6df39e8870e52...   \n",
       "528896  aaabacacacfc88c7d9395d1202e5e32b678deb3de95b04...   \n",
       "528897  aaac33395341a9ce53d71cd32e12f028aeb790cff33a1e...   \n",
       "528898  aaac67f43edd9784492db54e94291d02ee5b560002373a...   \n",
       "\n",
       "                                                  trip_id  count  \n",
       "0       6b0011957e76e00ef2fb704f01b64a7efbf4b066f2c78f...      1  \n",
       "528870  63f0102387c3d37278f9270c9495092e7d5db78d5c6ceb...      1  \n",
       "528896  e3fdd12f5e92499ebce67d366ce5667b43f562c7a06fd0...      1  \n",
       "528897  4cdb917e6d862e14a917c79af145408d0a8f020197d7b3...      1  \n",
       "528898  f9ace867825d0677161ca549f85856a346c803fe5ef24a...      1  "
      ]
     },
     "execution_count": 5,
     "metadata": {},
     "output_type": "execute_result"
    }
   ],
   "source": [
    "hoppi = pd.read_csv('C:/Users/gurkaali/Documents/Info/Ben/Hop/WatchesTable.csv', sep=\",\")\n",
    "hoppi.drop_duplicates(inplace = True)\n",
    "hoppi.groupby(['user_id', 'trip_id'])['user_id']\\\n",
    "    .count() \\\n",
    "    .reset_index(name='count')\\\n",
    "    .sort_values(['count'], ascending = False)\\\n",
    "    .head(5)"
   ]
  },
  {
   "cell_type": "markdown",
   "metadata": {},
   "source": [
    "Now that I am sure, I can set the index:"
   ]
  },
  {
   "cell_type": "code",
   "execution_count": 6,
   "metadata": {},
   "outputs": [],
   "source": [
    "hoppi.set_index(['user_id', 'trip_id'], inplace = True)"
   ]
  },
  {
   "cell_type": "markdown",
   "metadata": {},
   "source": [
    "Pandas has great features for date calculations. I set the related field types as datetime in case I need those features"
   ]
  },
  {
   "cell_type": "code",
   "execution_count": 7,
   "metadata": {},
   "outputs": [],
   "source": [
    "hoppi['departure_date'] = pd.to_datetime(hoppi['departure_date'], format = '%m/%d/%y')\n",
    "hoppi['return_date'] = pd.to_datetime(hoppi['return_date'], format = '%m/%d/%y')\n",
    "hoppi['first_search_dt'] = pd.to_datetime(hoppi['first_search_dt'], format = '%m/%d/%y %H:%M')\n",
    "hoppi['watch_added_dt'] = pd.to_datetime(hoppi['watch_added_dt'], format = '%m/%d/%y %H:%M')\n",
    "hoppi['latest_status_change_dt'] = pd.to_datetime(hoppi['latest_status_change_dt'], format = '%m/%d/%y %H:%M')\n",
    "hoppi['first_buy_dt'] = pd.to_datetime(hoppi['first_buy_dt'], format = '%m/%d/%y %H:%M')\n",
    "hoppi['last_notif_dt'] = pd.to_datetime(hoppi['last_notif_dt'], format = '%m/%d/%y %H:%M')\n",
    "hoppi['forecast_last_warning_date'] = pd.to_datetime(hoppi['forecast_last_warning_date'], format = '%m/%d/%y')\n",
    "hoppi['forecast_last_danger_date'] = pd.to_datetime(hoppi['forecast_last_danger_date'], format = '%m/%d/%y')"
   ]
  },
  {
   "cell_type": "markdown",
   "metadata": {},
   "source": [
    "The explanations in the assignment do not cover all fields but field names and the content enable further data verification\n",
    "* Stay should be the difference between departure and return dates. Based on that assumption, the query below should return no records i.e. the 1st item in the tuple returned by shape should be 0:"
   ]
  },
  {
   "cell_type": "code",
   "execution_count": 8,
   "metadata": {},
   "outputs": [
    {
     "data": {
      "text/plain": [
       "(0, 4)"
      ]
     },
     "execution_count": 8,
     "metadata": {},
     "output_type": "execute_result"
    }
   ],
   "source": [
    "hoppi['stay2'] = pd.to_timedelta(hoppi['stay'], unit = 'D')\n",
    "hoppi['stay_check'] = hoppi['return_date'] - hoppi['departure_date']\n",
    "hoppi.loc[(hoppi['stay_check'] != hoppi['stay2']) & (hoppi['return_date'].isnull() == False), \\\n",
    "          ['stay2', 'stay_check', 'return_date', 'departure_date']].shape"
   ]
  },
  {
   "cell_type": "markdown",
   "metadata": {},
   "source": [
    "The following date fields must not be before the first search date. Therefore the queries below should reveal no records\n",
    "* watch_added_dt\n",
    "* latest_status_change_dt\n",
    "* first_buy_dt\n",
    "* last_notif_dt\n",
    "* forecast_last_warning_date\n",
    "* forecast_last_danger_date"
   ]
  },
  {
   "cell_type": "code",
   "execution_count": 9,
   "metadata": {},
   "outputs": [
    {
     "data": {
      "text/plain": [
       "(0, 2)"
      ]
     },
     "execution_count": 9,
     "metadata": {},
     "output_type": "execute_result"
    }
   ],
   "source": [
    "hoppi.loc[(hoppi['watch_added_dt'] < hoppi['first_search_dt']), ['first_search_dt', 'watch_added_dt']].shape"
   ]
  },
  {
   "cell_type": "code",
   "execution_count": 10,
   "metadata": {},
   "outputs": [
    {
     "data": {
      "text/plain": [
       "(0, 2)"
      ]
     },
     "execution_count": 10,
     "metadata": {},
     "output_type": "execute_result"
    }
   ],
   "source": [
    "hoppi.loc[(hoppi['latest_status_change_dt'] < hoppi['first_search_dt']), ['first_search_dt', 'latest_status_change_dt']].shape"
   ]
  },
  {
   "cell_type": "markdown",
   "metadata": {},
   "source": [
    "33 records have a first buy suggestion datetime earlier  than the user's first search."
   ]
  },
  {
   "cell_type": "code",
   "execution_count": 11,
   "metadata": {},
   "outputs": [
    {
     "data": {
      "text/plain": [
       "(33, 2)"
      ]
     },
     "execution_count": 11,
     "metadata": {},
     "output_type": "execute_result"
    }
   ],
   "source": [
    "hoppi.loc[(hoppi['first_buy_dt'] < hoppi['first_search_dt']), ['first_search_dt', 'first_buy_dt']].shape"
   ]
  },
  {
   "cell_type": "markdown",
   "metadata": {},
   "source": [
    "While the difference is just minutes in most cases, I don't have an explanation to justify it. Given the limited number of cases, I prefer removing them"
   ]
  },
  {
   "cell_type": "code",
   "execution_count": 12,
   "metadata": {},
   "outputs": [
    {
     "data": {
      "text/html": [
       "<div>\n",
       "<style scoped>\n",
       "    .dataframe tbody tr th:only-of-type {\n",
       "        vertical-align: middle;\n",
       "    }\n",
       "\n",
       "    .dataframe tbody tr th {\n",
       "        vertical-align: top;\n",
       "    }\n",
       "\n",
       "    .dataframe thead th {\n",
       "        text-align: right;\n",
       "    }\n",
       "</style>\n",
       "<table border=\"1\" class=\"dataframe\">\n",
       "  <thead>\n",
       "    <tr style=\"text-align: right;\">\n",
       "      <th></th>\n",
       "      <th></th>\n",
       "      <th>first_search_dt</th>\n",
       "      <th>first_buy_dt</th>\n",
       "    </tr>\n",
       "    <tr>\n",
       "      <th>user_id</th>\n",
       "      <th>trip_id</th>\n",
       "      <th></th>\n",
       "      <th></th>\n",
       "    </tr>\n",
       "  </thead>\n",
       "  <tbody>\n",
       "    <tr>\n",
       "      <th>51e70b0f6be23fd0432be4a2fdca86516658ca8de670071d478928e6684c1c78</th>\n",
       "      <th>2fa595790a14db833a002826401217479ca0a8b11ee571e3cb15089b51843fb5</th>\n",
       "      <td>2018-02-24 13:08:00</td>\n",
       "      <td>2018-02-24 13:07:00</td>\n",
       "    </tr>\n",
       "    <tr>\n",
       "      <th>b0248efd5b45fd2d393768130954abab22591d1afb82d7e913fc86305309b965</th>\n",
       "      <th>c3845c3c663d03bc98fc12768f7e361cfe05042a1511834b78ec1e618220e67a</th>\n",
       "      <td>2018-04-02 14:17:00</td>\n",
       "      <td>2018-04-02 13:55:00</td>\n",
       "    </tr>\n",
       "    <tr>\n",
       "      <th>96cb9cc4b0f6915e5f7068a31c04be9511ba9e540bbbb2d9d63a4615188de350</th>\n",
       "      <th>8bad186fe0a1b5955c33155314d1455be4c733bd1a850c3dc73f2087c8a4e04d</th>\n",
       "      <td>2018-01-18 19:31:00</td>\n",
       "      <td>2018-01-18 19:23:00</td>\n",
       "    </tr>\n",
       "    <tr>\n",
       "      <th>d0dd26a1de70cc8f855aabadd3bb12626a7b6a0530f256f0ebdaab21f27dd406</th>\n",
       "      <th>037ffa5aa9258a4e4ff69871b2b14d958545c3e661d425d3d8ec27655ab009dd</th>\n",
       "      <td>2018-01-16 12:41:00</td>\n",
       "      <td>2018-01-16 12:35:00</td>\n",
       "    </tr>\n",
       "    <tr>\n",
       "      <th>d8db8a8decded09d9e4056d50b63bfd7a3b634d717a32e17b31069e7dba5048b</th>\n",
       "      <th>70f0639b959b452db6ff8be86cb9516612d5d3e54445b212b8c041c44124ccac</th>\n",
       "      <td>2018-01-04 10:15:00</td>\n",
       "      <td>2018-01-04 10:14:00</td>\n",
       "    </tr>\n",
       "  </tbody>\n",
       "</table>\n",
       "</div>"
      ],
      "text/plain": [
       "                                                                                                          first_search_dt  \\\n",
       "user_id                                            trip_id                                                                  \n",
       "51e70b0f6be23fd0432be4a2fdca86516658ca8de670071... 2fa595790a14db833a002826401217479ca0a8b11ee571e... 2018-02-24 13:08:00   \n",
       "b0248efd5b45fd2d393768130954abab22591d1afb82d7e... c3845c3c663d03bc98fc12768f7e361cfe05042a1511834... 2018-04-02 14:17:00   \n",
       "96cb9cc4b0f6915e5f7068a31c04be9511ba9e540bbbb2d... 8bad186fe0a1b5955c33155314d1455be4c733bd1a850c3... 2018-01-18 19:31:00   \n",
       "d0dd26a1de70cc8f855aabadd3bb12626a7b6a0530f256f... 037ffa5aa9258a4e4ff69871b2b14d958545c3e661d425d... 2018-01-16 12:41:00   \n",
       "d8db8a8decded09d9e4056d50b63bfd7a3b634d717a32e1... 70f0639b959b452db6ff8be86cb9516612d5d3e54445b21... 2018-01-04 10:15:00   \n",
       "\n",
       "                                                                                                             first_buy_dt  \n",
       "user_id                                            trip_id                                                                 \n",
       "51e70b0f6be23fd0432be4a2fdca86516658ca8de670071... 2fa595790a14db833a002826401217479ca0a8b11ee571e... 2018-02-24 13:07:00  \n",
       "b0248efd5b45fd2d393768130954abab22591d1afb82d7e... c3845c3c663d03bc98fc12768f7e361cfe05042a1511834... 2018-04-02 13:55:00  \n",
       "96cb9cc4b0f6915e5f7068a31c04be9511ba9e540bbbb2d... 8bad186fe0a1b5955c33155314d1455be4c733bd1a850c3... 2018-01-18 19:23:00  \n",
       "d0dd26a1de70cc8f855aabadd3bb12626a7b6a0530f256f... 037ffa5aa9258a4e4ff69871b2b14d958545c3e661d425d... 2018-01-16 12:35:00  \n",
       "d8db8a8decded09d9e4056d50b63bfd7a3b634d717a32e1... 70f0639b959b452db6ff8be86cb9516612d5d3e54445b21... 2018-01-04 10:14:00  "
      ]
     },
     "execution_count": 12,
     "metadata": {},
     "output_type": "execute_result"
    }
   ],
   "source": [
    "hoppi.loc[(hoppi['first_buy_dt'] < hoppi['first_search_dt']), ['first_search_dt', 'first_buy_dt']].head()"
   ]
  },
  {
   "cell_type": "code",
   "execution_count": 13,
   "metadata": {},
   "outputs": [],
   "source": [
    "hoppi = hoppi.loc[~(hoppi['first_buy_dt'] < hoppi['first_search_dt'])]"
   ]
  },
  {
   "cell_type": "markdown",
   "metadata": {},
   "source": [
    "There are also 2 records where the last notification is done before the user's first search. I remove those as well"
   ]
  },
  {
   "cell_type": "code",
   "execution_count": 14,
   "metadata": {},
   "outputs": [
    {
     "data": {
      "text/html": [
       "<div>\n",
       "<style scoped>\n",
       "    .dataframe tbody tr th:only-of-type {\n",
       "        vertical-align: middle;\n",
       "    }\n",
       "\n",
       "    .dataframe tbody tr th {\n",
       "        vertical-align: top;\n",
       "    }\n",
       "\n",
       "    .dataframe thead th {\n",
       "        text-align: right;\n",
       "    }\n",
       "</style>\n",
       "<table border=\"1\" class=\"dataframe\">\n",
       "  <thead>\n",
       "    <tr style=\"text-align: right;\">\n",
       "      <th></th>\n",
       "      <th></th>\n",
       "      <th>first_search_dt</th>\n",
       "      <th>last_notif_dt</th>\n",
       "    </tr>\n",
       "    <tr>\n",
       "      <th>user_id</th>\n",
       "      <th>trip_id</th>\n",
       "      <th></th>\n",
       "      <th></th>\n",
       "    </tr>\n",
       "  </thead>\n",
       "  <tbody>\n",
       "    <tr>\n",
       "      <th rowspan=\"2\" valign=\"top\">8a47f379d1db19111c8a7a68b51b6f22788f36dc59aa370e5ffc2ed8f0a0fa04</th>\n",
       "      <th>6664669b137c239944f9cb75807f00fafbd5004ff702ebea67faa317bfc32fd7</th>\n",
       "      <td>2018-04-08 23:40:00</td>\n",
       "      <td>2018-04-08 07:26:00</td>\n",
       "    </tr>\n",
       "    <tr>\n",
       "      <th>44603020c2874f74701bae07f8a06ead0c5a62901da53424fcb1fa156f5960f3</th>\n",
       "      <td>2018-04-08 23:40:00</td>\n",
       "      <td>2018-04-08 07:27:00</td>\n",
       "    </tr>\n",
       "  </tbody>\n",
       "</table>\n",
       "</div>"
      ],
      "text/plain": [
       "                                                                                                          first_search_dt  \\\n",
       "user_id                                            trip_id                                                                  \n",
       "8a47f379d1db19111c8a7a68b51b6f22788f36dc59aa370... 6664669b137c239944f9cb75807f00fafbd5004ff702ebe... 2018-04-08 23:40:00   \n",
       "                                                   44603020c2874f74701bae07f8a06ead0c5a62901da5342... 2018-04-08 23:40:00   \n",
       "\n",
       "                                                                                                            last_notif_dt  \n",
       "user_id                                            trip_id                                                                 \n",
       "8a47f379d1db19111c8a7a68b51b6f22788f36dc59aa370... 6664669b137c239944f9cb75807f00fafbd5004ff702ebe... 2018-04-08 07:26:00  \n",
       "                                                   44603020c2874f74701bae07f8a06ead0c5a62901da5342... 2018-04-08 07:27:00  "
      ]
     },
     "execution_count": 14,
     "metadata": {},
     "output_type": "execute_result"
    }
   ],
   "source": [
    "hoppi.loc[(hoppi['last_notif_dt'] < hoppi['first_search_dt']), ['first_search_dt', 'last_notif_dt']]"
   ]
  },
  {
   "cell_type": "code",
   "execution_count": 15,
   "metadata": {},
   "outputs": [],
   "source": [
    "hoppi = hoppi.loc[~(hoppi['last_notif_dt'] < hoppi['first_search_dt'])]"
   ]
  },
  {
   "cell_type": "markdown",
   "metadata": {},
   "source": [
    "Same checks on last warning and last danger dates show 362K + and 98K + suspicious records. As the quantitiy is large and descriptions sent with the assignment do not contain details on these 2 fields, I prefer to keep them while taking a note here in case something provides with additional argument to delete them during analyses."
   ]
  },
  {
   "cell_type": "code",
   "execution_count": 16,
   "metadata": {},
   "outputs": [
    {
     "data": {
      "text/plain": [
       "(362212, 2)"
      ]
     },
     "execution_count": 16,
     "metadata": {},
     "output_type": "execute_result"
    }
   ],
   "source": [
    "hoppi.loc[(hoppi['forecast_last_warning_date'] < hoppi['first_search_dt']), \\\n",
    "          ['first_search_dt', 'forecast_last_warning_date']].shape"
   ]
  },
  {
   "cell_type": "code",
   "execution_count": 17,
   "metadata": {},
   "outputs": [
    {
     "data": {
      "text/plain": [
       "(98452, 2)"
      ]
     },
     "execution_count": 17,
     "metadata": {},
     "output_type": "execute_result"
    }
   ],
   "source": [
    "hoppi.loc[(hoppi['forecast_last_danger_date'] < hoppi['first_search_dt']), \\\n",
    "          ['first_search_dt', 'forecast_last_danger_date']].shape"
   ]
  },
  {
   "cell_type": "markdown",
   "metadata": {},
   "source": [
    "### Check outliers"
   ]
  },
  {
   "cell_type": "markdown",
   "metadata": {},
   "source": [
    "I reshape the columns in a way that will make working with seaborn easier:"
   ]
  },
  {
   "cell_type": "code",
   "execution_count": 49,
   "metadata": {},
   "outputs": [],
   "source": [
    "hoppi_box_components = [hoppi[['first_advance']].assign(measurement_type = 'first_advance').reset_index(). \\\n",
    "                        rename(columns = {'first_advance': 'measurement'}),\n",
    "                        hoppi[['watch_advance']].assign(measurement_type = 'watch_advance').reset_index(). \\\n",
    "                        rename(columns = {'watch_advance': 'measurement'}),\n",
    "                        hoppi[['current_advance']].assign(measurement_type = 'current_advance').reset_index(). \\\n",
    "                        rename(columns = {'current_advance': 'measurement'})]\n",
    "hoppi_box = pd.concat(hoppi_box_components)"
   ]
  },
  {
   "cell_type": "code",
   "execution_count": 50,
   "metadata": {},
   "outputs": [
    {
     "data": {
      "image/png": "[encoded data removed]",
      "text/plain": [
       "<Figure size 432x288 with 1 Axes>"
      ]
     },
     "metadata": {},
     "output_type": "display_data"
    }
   ],
   "source": [
    "sns.set(font = 'DejaVu Sans', style = 'white')\n",
    "ax = sns.boxplot(x=\"measurement_type\", y=\"measurement\",\n",
    "                 data=hoppi_box, palette=[\"#FA6866\", \"#01AAE4\", \"#505050\"], #Hopper colors\n",
    "                linewidth = 0.5)"
   ]
  },
  {
   "cell_type": "markdown",
   "metadata": {},
   "source": [
    "While several observations look like outliers on the boxplots, the histograms below show that the data is highly skewed. Therefore I do not consider them as outliers"
   ]
  },
  {
   "cell_type": "code",
   "execution_count": 51,
   "metadata": {},
   "outputs": [
    {
     "data": {
      "text/plain": [
       "<matplotlib.axes._subplots.AxesSubplot at 0x618f48d0>"
      ]
     },
     "execution_count": 51,
     "metadata": {},
     "output_type": "execute_result"
    },
    {
     "data": {
      "image/png": "[encoded data removed]",
      "text/plain": [
       "<Figure size 1080x360 with 3 Axes>"
      ]
     },
     "metadata": {},
     "output_type": "display_data"
    }
   ],
   "source": [
    "f, axes = plt.subplots(1, 3, figsize=(15, 5), sharex=True)\n",
    "sns.distplot(hoppi['first_advance'], kde=False, color=\"#FA6866\", ax=axes[0])\n",
    "sns.distplot(hoppi.loc[hoppi['watch_advance'].isnull() == False, 'watch_advance'], kde=False, color=\"#01AAE4\", ax=axes[1])\n",
    "sns.distplot(hoppi.loc[hoppi['current_advance'].isnull() == False, 'current_advance'], kde=False, color=\"#505050\", ax=axes[2])"
   ]
  },
  {
   "cell_type": "markdown",
   "metadata": {},
   "source": [
    "### Question 1"
   ]
  },
  {
   "cell_type": "markdown",
   "metadata": {},
   "source": [
    "Given the business model of Hopper, we should understand who is more likely to buy a ticket eventually. Logistic Regression constitutes a convenient way of conducting such analysis. It runs faster than SVN and is easier to interpret, making it ideal for a task like this one:"
   ]
  },
  {
   "cell_type": "markdown",
   "metadata": {},
   "source": [
    "I prepare categorical variables for trip types:"
   ]
  },
  {
   "cell_type": "code",
   "execution_count": 18,
   "metadata": {},
   "outputs": [],
   "source": [
    "one_hot_trip_type = pd.get_dummies(hoppi['trip_type'])\n",
    "hoppi2 = hoppi.join(one_hot_trip_type)"
   ]
  },
  {
   "cell_type": "markdown",
   "metadata": {},
   "source": [
    "I believe the city / airport distinction in origin and destination fields refer to the fact that some airports are more central such as the difference between Toronto Billy Bishop and Pearson airports. I also checked some airport codes, they do corresponds to cities where there are multiple airports with one or more being city airports"
   ]
  },
  {
   "cell_type": "code",
   "execution_count": 19,
   "metadata": {},
   "outputs": [],
   "source": [
    "origin_cols = hoppi2['origin'].str.split(\"/\", n = 1, expand = True) \n",
    "hoppi2['origin_code'] = origin_cols[1]\n",
    "hoppi2['origin_type'] = origin_cols[0]\n",
    "\n",
    "destination_cols = hoppi2['destination'].str.split(\"/\", n = 1, expand = True) \n",
    "hoppi2['destination_code'] = destination_cols[1]\n",
    "hoppi2['destination_type'] = destination_cols[0]"
   ]
  },
  {
   "cell_type": "code",
   "execution_count": 20,
   "metadata": {},
   "outputs": [],
   "source": [
    "one_hot_destination_type = pd.get_dummies(hoppi2['destination_type'])\n",
    "hoppi3 = hoppi2.join(one_hot_destination_type)\n",
    "hoppi3.rename(columns={\"airport\": \"destination_airport\", \"city\": \"destination_city\"}, inplace = True)"
   ]
  },
  {
   "cell_type": "code",
   "execution_count": 21,
   "metadata": {},
   "outputs": [],
   "source": [
    "one_hot_origin_type = pd.get_dummies(hoppi3['origin_type'])\n",
    "hoppi4 = hoppi3.join(one_hot_origin_type)\n",
    "hoppi4.rename(columns={\"airport\": \"origin_airport\", \"city\": \"origin_city\"}, inplace = True)"
   ]
  },
  {
   "cell_type": "markdown",
   "metadata": {},
   "source": [
    "I prepare categorical variables for whether a watch is placed or not:"
   ]
  },
  {
   "cell_type": "code",
   "execution_count": 22,
   "metadata": {},
   "outputs": [],
   "source": [
    "hoppi4.loc[hoppi3['watch_added_dt'].isnull() == True, 'watch_bin'] = 0\n",
    "hoppi4.loc[hoppi3['watch_added_dt'].isnull() == False, 'watch_bin'] = 1"
   ]
  },
  {
   "cell_type": "markdown",
   "metadata": {},
   "source": [
    "Given the user - trip combination being unique across the data file, we do not have information on the changes for a user who has updated his trip status. As the data looks like covering the last status of a trip, I prefer to focus analyses on concluded queries i.e. trips either expired or booked. I exclude:\n",
    "* actives: because their result is yet to be seen. The user can end up booking before departure\n",
    "* shopped: because a user can make several searches on the same itinerary with alternative options each ending up as a new record in the database. I consider a search once the suer starts following the trip price\n",
    "* inactive: because some have departure in the future so their result cannot be concluded. I also exclude those with departure in the past as it falls in the same category as the shopped trips as the user stopped following the trip.\n",
    "I assign a new column for records I take into account in my analyses further below:"
   ]
  },
  {
   "cell_type": "code",
   "execution_count": 23,
   "metadata": {},
   "outputs": [],
   "source": [
    "hoppi4.loc[hoppi3['status_latest'] == 'expired', 'result'] = 0\n",
    "hoppi4.loc[hoppi3['status_latest'] == 'booked', 'result'] = 1"
   ]
  },
  {
   "cell_type": "markdown",
   "metadata": {},
   "source": [
    "A person might be prompted to buy once the price falls because it makes sense or maybe he buys as soon as it starts increasing to avoid further increase. Whatever the case, it makes sense to compare the price at different time points with respect to the original price at first search. For that, I create columns to measure price difference between the last price, the first time a buy recommended, the lowest price vs the the very first price:"
   ]
  },
  {
   "cell_type": "code",
   "execution_count": 24,
   "metadata": {},
   "outputs": [],
   "source": [
    "hoppi4['dif_last_first'] = hoppi4['last_total'] - hoppi4['first_total']\n",
    "hoppi4['dif_buy_first'] = hoppi4['first_buy_total'] - hoppi4['first_total']\n",
    "hoppi4['dif_lowest_first'] = hoppi4['lowest_total'] - hoppi4['first_total']"
   ]
  },
  {
   "cell_type": "markdown",
   "metadata": {},
   "source": [
    "I create a categorical variable for the last recommendation as well to check whether a buy recommendation makes user to book:"
   ]
  },
  {
   "cell_type": "code",
   "execution_count": 25,
   "metadata": {},
   "outputs": [],
   "source": [
    "one_hot_last_rec = pd.get_dummies(hoppi4['last_rec']) # this create s 2 columns: buy and wait\n",
    "hoppi5 = hoppi4.join(one_hot_last_rec)\n",
    "hoppi5.loc[hoppi5['last_rec'].isnull(), 'buy'] = np.nan # originally null values are given 0. I undo that manipulation here"
   ]
  },
  {
   "cell_type": "markdown",
   "metadata": {},
   "source": [
    "I make a table with rows containing certain results that I want to focus on i.e. expired and booked"
   ]
  },
  {
   "cell_type": "code",
   "execution_count": 26,
   "metadata": {},
   "outputs": [
    {
     "name": "stdout",
     "output_type": "stream",
     "text": [
      "<class 'pandas.core.frame.DataFrame'>\n",
      "MultiIndex: 45237 entries, (e42e7c15cde08c19905ee12200fad7cb5af36d1fe3a3310b5f94f95c47ae51cd, 05d59806e67fa9a5b2747bc1b24842189bba0c45e49d3714549fc5df9838ed20) to (d414b1c72a16512dbd7b3859c9c9f574633578acef74d120490625d9010103c7, 3a363a2456b6b7605347e06d2879162b3008004370f73a68f52523330ccd38a6)\n",
      "Data columns (total 17 columns):\n",
      "round_trip              45237 non-null uint8\n",
      "destination_city        45237 non-null uint8\n",
      "origin_city             45237 non-null uint8\n",
      "weekend                 45237 non-null int64\n",
      "filter_no_lcc           45237 non-null int64\n",
      "filter_non_stop         45237 non-null int64\n",
      "filter_short_layover    45237 non-null int64\n",
      "status_updates          45237 non-null int64\n",
      "watch_bin               45237 non-null float64\n",
      "total_notifs            44800 non-null float64\n",
      "total_buy_notifs        44800 non-null float64\n",
      "buy                     44800 non-null float64\n",
      "dif_last_first          44800 non-null float64\n",
      "dif_buy_first           44133 non-null float64\n",
      "dif_lowest_first        44800 non-null float64\n",
      "first_advance           45237 non-null int64\n",
      "result                  45237 non-null float64\n",
      "dtypes: float64(8), int64(6), uint8(3)\n",
      "memory usage: 12.8+ MB\n"
     ]
    }
   ],
   "source": [
    "hoppi6 = hoppi5.loc[hoppi5['result'].isnull() == False, \n",
    "          ['round_trip', \n",
    "        'destination_city', 'origin_city',\n",
    "        'weekend',\n",
    "       'filter_no_lcc', 'filter_non_stop', 'filter_short_layover', 'status_updates', \n",
    "        'watch_bin', 'total_notifs', 'total_buy_notifs', 'buy',\n",
    "       'dif_last_first', 'dif_buy_first', 'dif_lowest_first', 'first_advance', 'result']]\n",
    "hoppi6.info()"
   ]
  },
  {
   "cell_type": "markdown",
   "metadata": {},
   "source": [
    "Some rows have null values such as the price difference between the buy moment and the first price as some users may not have gt the buy recommendation yet. To cover these features, I get only non-null rows:"
   ]
  },
  {
   "cell_type": "code",
   "execution_count": 74,
   "metadata": {
    "scrolled": true
   },
   "outputs": [
    {
     "name": "stdout",
     "output_type": "stream",
     "text": [
      "<class 'pandas.core.frame.DataFrame'>\n",
      "MultiIndex: 44133 entries, (e42e7c15cde08c19905ee12200fad7cb5af36d1fe3a3310b5f94f95c47ae51cd, 05d59806e67fa9a5b2747bc1b24842189bba0c45e49d3714549fc5df9838ed20) to (d414b1c72a16512dbd7b3859c9c9f574633578acef74d120490625d9010103c7, 3a363a2456b6b7605347e06d2879162b3008004370f73a68f52523330ccd38a6)\n",
      "Data columns (total 17 columns):\n",
      "round_trip              44133 non-null uint8\n",
      "destination_city        44133 non-null uint8\n",
      "origin_city             44133 non-null uint8\n",
      "weekend                 44133 non-null int64\n",
      "filter_no_lcc           44133 non-null int64\n",
      "filter_non_stop         44133 non-null int64\n",
      "filter_short_layover    44133 non-null int64\n",
      "status_updates          44133 non-null int64\n",
      "watch_bin               44133 non-null float64\n",
      "total_notifs            44133 non-null float64\n",
      "total_buy_notifs        44133 non-null float64\n",
      "buy                     44133 non-null float64\n",
      "dif_last_first          44133 non-null float64\n",
      "dif_buy_first           44133 non-null float64\n",
      "dif_lowest_first        44133 non-null float64\n",
      "first_advance           44133 non-null int64\n",
      "result                  44133 non-null float64\n",
      "dtypes: float64(8), int64(6), uint8(3)\n",
      "memory usage: 12.6+ MB\n"
     ]
    }
   ],
   "source": [
    "df = hoppi6.dropna()\n",
    "df.info()"
   ]
  },
  {
   "cell_type": "code",
   "execution_count": 75,
   "metadata": {},
   "outputs": [
    {
     "name": "stdout",
     "output_type": "stream",
     "text": [
      "(44133, 16) (44133,)\n"
     ]
    }
   ],
   "source": [
    "X = df[['round_trip', \n",
    "        'destination_city', 'origin_city',\n",
    "        'weekend',\n",
    "       'filter_non_stop', 'filter_short_layover', 'status_updates', 'filter_no_lcc', \n",
    "        'watch_bin', 'total_notifs', 'buy', 'total_buy_notifs', \n",
    "       'dif_lowest_first',\n",
    "        'dif_last_first', \n",
    "        'dif_buy_first', \n",
    "        'first_advance']] \n",
    "y = df['result']\n",
    "print(X.shape, y.shape)"
   ]
  },
  {
   "cell_type": "code",
   "execution_count": 76,
   "metadata": {},
   "outputs": [
    {
     "name": "stdout",
     "output_type": "stream",
     "text": [
      "Optimization terminated successfully.\n",
      "         Current function value: 0.041569\n",
      "         Iterations 12\n",
      "                           Results: Logit\n",
      "=====================================================================\n",
      "Model:                Logit              Pseudo R-squared:   0.852   \n",
      "Dependent Variable:   result             AIC:                765.7809\n",
      "Date:                 2019-06-20 12:20   BIC:                879.1482\n",
      "No. Observations:     8826               Log-Likelihood:     -366.89 \n",
      "Df Model:             15                 LL-Null:            -2484.6 \n",
      "Df Residuals:         8810               LLR p-value:        0.0000  \n",
      "Converged:            1.0000             Scale:              1.0000  \n",
      "No. Iterations:       12.0000                                        \n",
      "---------------------------------------------------------------------\n",
      "                      Coef.  Std.Err.    z     P>|z|   [0.025  0.975]\n",
      "---------------------------------------------------------------------\n",
      "round_trip           -0.7625   0.2318  -3.2898 0.0010 -1.2167 -0.3082\n",
      "destination_city      0.4061   0.2259   1.7976 0.0722 -0.0367  0.8489\n",
      "origin_city           0.3157   0.2161   1.4605 0.1441 -0.1079  0.7393\n",
      "weekend               0.8184   0.2740   2.9873 0.0028  0.2815  1.3554\n",
      "filter_non_stop       0.1179   0.2647   0.4455 0.6559 -0.4009  0.6368\n",
      "filter_short_layover  0.7755   0.4312   1.7983 0.0721 -0.0697  1.6207\n",
      "status_updates        0.1079   0.0666   1.6196 0.1053 -0.0227  0.2386\n",
      "filter_no_lcc        -0.2027   0.8046  -0.2519 0.8011 -1.7796  1.3743\n",
      "watch_bin            -5.3110   0.4588 -11.5750 0.0000 -6.2103 -4.4117\n",
      "total_notifs         -1.0820   0.1657  -6.5284 0.0000 -1.4069 -0.7572\n",
      "buy                   2.6103   0.4266   6.1188 0.0000  1.7742  3.4464\n",
      "total_buy_notifs     -0.3924   0.1985  -1.9773 0.0480 -0.7814 -0.0034\n",
      "dif_lowest_first      0.0125   0.0035   3.6156 0.0003  0.0057  0.0194\n",
      "dif_last_first       -0.0067   0.0014  -4.7947 0.0000 -0.0095 -0.0040\n",
      "dif_buy_first        -0.0135   0.0042  -3.1968 0.0014 -0.0217 -0.0052\n",
      "first_advance         0.1581   0.0095  16.6355 0.0000  0.1395  0.1768\n",
      "=====================================================================\n",
      "\n"
     ]
    }
   ],
   "source": [
    "X_train, X_test , y_train, y_test = train_test_split(X, y, test_size=0.8, random_state=1)\n",
    "logit_model=sm.Logit(y_train, X_train)\n",
    "result=logit_model.fit(maxiter = 1000)\n",
    "print(result.summary2())"
   ]
  },
  {
   "cell_type": "code",
   "execution_count": 44,
   "metadata": {},
   "outputs": [
    {
     "name": "stderr",
     "output_type": "stream",
     "text": [
      "C:\\ProgramData\\Anaconda3\\envs\\operational\\lib\\site-packages\\sklearn\\linear_model\\logistic.py:433: FutureWarning: Default solver will be changed to 'lbfgs' in 0.22. Specify a solver to silence this warning.\n",
      "  FutureWarning)\n"
     ]
    }
   ],
   "source": [
    "lr = LogisticRegression()\n",
    "lr.fit(X_train, y_train)\n",
    "y_pred = lr.predict(X_test)"
   ]
  },
  {
   "cell_type": "code",
   "execution_count": 45,
   "metadata": {},
   "outputs": [
    {
     "data": {
      "text/plain": [
       "0.9880760189197609"
      ]
     },
     "execution_count": 45,
     "metadata": {},
     "output_type": "execute_result"
    }
   ],
   "source": [
    "accuracy_score(y_test, y_pred)"
   ]
  },
  {
   "cell_type": "code",
   "execution_count": 46,
   "metadata": {},
   "outputs": [
    {
     "data": {
      "text/plain": [
       "0.08112395196011783"
      ]
     },
     "execution_count": 46,
     "metadata": {},
     "output_type": "execute_result"
    }
   ],
   "source": [
    "sum(y_train)/len(y_train)"
   ]
  },
  {
   "cell_type": "code",
   "execution_count": 47,
   "metadata": {
    "scrolled": true
   },
   "outputs": [
    {
     "name": "stdout",
     "output_type": "stream",
     "text": [
      "              precision    recall  f1-score   support\n",
      "\n",
      "         0.0       0.99      1.00      0.99     32564\n",
      "         1.0       0.97      0.87      0.92      2743\n",
      "\n",
      "   micro avg       0.99      0.99      0.99     35307\n",
      "   macro avg       0.98      0.93      0.96     35307\n",
      "weighted avg       0.99      0.99      0.99     35307\n",
      "\n"
     ]
    }
   ],
   "source": [
    "print(classification_report(y_test, y_pred))"
   ]
  },
  {
   "cell_type": "markdown",
   "metadata": {},
   "source": [
    "#### Data driven insights:\n",
    "The model shows a good level of accuracy. However given the imbalance of data (only 8% of data corresponds to an actual booking) it is crucial to check recall which also shows a high value i.e. false negatives are limited.\n",
    "Now that we know the model looks robust, we can make the following data-driven insights:\n",
    "1. City travelers, regardless their origin and destination, are not necessarily more likely to end up booking. These are the people likely to be business travelers. When we look at the weekend travelers which I use as a substitute as pleasure travelers, people are significantly more likely to end up booking. It looks like people are more sensitive to buy recommendations when it is a personal travel\n",
    "2. Among filters, only those who filter for short layover are more likely to book whereas the significance is not as powerfull (at a p = 0.10 level)\n",
    "3. Buy recommendations significantly impact booking behavior which indicates that the algorithm makes sense to the customer\n",
    "4. Price fluctuations have significant impact on users' booking behavior:\n",
    "    * The lowest and first price difference is significant with a positive relationship with the booking behavior showing that people are more likely to buy when there is a price drop after their first query\n",
    "    * When the last price or the price of the buy recommendation are higher than the first price, users are less likely to book.\n",
    "    * The above 2 points show that the algorithm leads to the expected user behavior.\n",
    "5. Those who sign up for a price watch are more likely to book. This feature might be an indicator that the user is seriously making a plan. To be concrete, someone who is looking at options for a dream vacation in case he wins the lottery would not be setting the watch on whereas someone who took days off at work next month would do so."
   ]
  },
  {
   "cell_type": "markdown",
   "metadata": {},
   "source": [
    "### Question 2"
   ]
  },
  {
   "cell_type": "markdown",
   "metadata": {},
   "source": [
    "#### Most \"watched\" itineraries"
   ]
  },
  {
   "cell_type": "markdown",
   "metadata": {},
   "source": [
    "I would like to see the watch selected cases w.r.t. the itinerary i.e. NY to MTL would be considered the same as MTL to NY"
   ]
  },
  {
   "cell_type": "code",
   "execution_count": 77,
   "metadata": {
    "collapsed": true
   },
   "outputs": [
    {
     "name": "stdout",
     "output_type": "stream",
     "text": [
      "<class 'pandas.core.frame.DataFrame'>\n",
      "MultiIndex: 40873 entries, (e42e7c15cde08c19905ee12200fad7cb5af36d1fe3a3310b5f94f95c47ae51cd, 05d59806e67fa9a5b2747bc1b24842189bba0c45e49d3714549fc5df9838ed20) to (d414b1c72a16512dbd7b3859c9c9f574633578acef74d120490625d9010103c7, 3a363a2456b6b7605347e06d2879162b3008004370f73a68f52523330ccd38a6)\n",
      "Data columns (total 58 columns):\n",
      "trip_type                      40873 non-null object\n",
      "origin                         40873 non-null object\n",
      "destination                    40873 non-null object\n",
      "departure_date                 40873 non-null datetime64[ns]\n",
      "return_date                    34064 non-null datetime64[ns]\n",
      "stay                           34064 non-null float64\n",
      "weekend                        40873 non-null int64\n",
      "filter_no_lcc                  40873 non-null int64\n",
      "filter_non_stop                40873 non-null int64\n",
      "filter_short_layover           40873 non-null int64\n",
      "filter_name                    40873 non-null object\n",
      "status_updates                 40873 non-null int64\n",
      "first_search_dt                40873 non-null datetime64[ns]\n",
      "watch_added_dt                 40873 non-null datetime64[ns]\n",
      "latest_status_change_dt        40873 non-null datetime64[ns]\n",
      "status_latest                  40873 non-null object\n",
      "total_notifs                   40713 non-null float64\n",
      "total_buy_notifs               40713 non-null float64\n",
      "first_rec                      40713 non-null object\n",
      "first_total                    40713 non-null float64\n",
      "last_rec                       40713 non-null object\n",
      "last_total                     40713 non-null float64\n",
      "first_buy_dt                   40674 non-null datetime64[ns]\n",
      "first_buy_total                40674 non-null float64\n",
      "lowest_total                   40713 non-null float64\n",
      "last_notif_dt                  38897 non-null datetime64[ns]\n",
      "forecast_first_target_price    40187 non-null float64\n",
      "forecast_first_good_price      40187 non-null float64\n",
      "forecast_last_target_price     40687 non-null float64\n",
      "forecast_last_good_price       40687 non-null float64\n",
      "forecast_last_warning_date     40450 non-null datetime64[ns]\n",
      "forecast_last_danger_date      37664 non-null datetime64[ns]\n",
      "forecast_min_target_price      40687 non-null float64\n",
      "forecast_max_target_price      40687 non-null float64\n",
      "forecast_min_good_price        40687 non-null float64\n",
      "forecast_max_good_price        40687 non-null float64\n",
      "watch_advance                  40873 non-null float64\n",
      "first_advance                  40873 non-null int64\n",
      "current_advance                0 non-null float64\n",
      "stay2                          34064 non-null timedelta64[ns]\n",
      "stay_check                     34064 non-null timedelta64[ns]\n",
      "one_way                        40873 non-null uint8\n",
      "round_trip                     40873 non-null uint8\n",
      "origin_code                    40873 non-null object\n",
      "origin_type                    40873 non-null object\n",
      "destination_code               40873 non-null object\n",
      "destination_type               40873 non-null object\n",
      "destination_airport            40873 non-null uint8\n",
      "destination_city               40873 non-null uint8\n",
      "origin_airport                 40873 non-null uint8\n",
      "origin_city                    40873 non-null uint8\n",
      "watch_bin                      40873 non-null float64\n",
      "result                         40873 non-null float64\n",
      "dif_last_first                 40713 non-null float64\n",
      "dif_buy_first                  40674 non-null float64\n",
      "dif_lowest_first               40713 non-null float64\n",
      "buy                            40713 non-null float64\n",
      "wait                           40873 non-null uint8\n",
      "dtypes: datetime64[ns](9), float64(23), int64(6), object(11), timedelta64[ns](2), uint8(7)\n",
      "memory usage: 23.9+ MB\n"
     ]
    }
   ],
   "source": [
    "hoppi5.loc[(hoppi5['watch_bin'] == 1.0) & (hoppi5['result'] == 0)].info()"
   ]
  },
  {
   "cell_type": "code",
   "execution_count": 78,
   "metadata": {},
   "outputs": [],
   "source": [
    "pareto_watch_0 = hoppi5.loc[(hoppi5['watch_bin'] == 1.0) & (hoppi5['result'] == 0.0), ['origin_code', 'destination_code']]\n",
    "pareto_watch_0.loc[pareto_watch_0['origin_code'] < pareto_watch_0['destination_code'], \\\n",
    "                   'itinerary'] = \\\n",
    "                    pareto_watch_0['origin_code'] + pareto_watch_0['destination_code']\n",
    "pareto_watch_0.loc[pareto_watch_0['origin_code'] > pareto_watch_0['destination_code'], \\\n",
    "                   'itinerary'] = \\\n",
    "                    pareto_watch_0['destination_code'] + pareto_watch_0['origin_code']"
   ]
  },
  {
   "cell_type": "code",
   "execution_count": 79,
   "metadata": {},
   "outputs": [
    {
     "name": "stdout",
     "output_type": "stream",
     "text": [
      "<class 'pandas.core.frame.DataFrame'>\n",
      "MultiIndex: 40873 entries, (e42e7c15cde08c19905ee12200fad7cb5af36d1fe3a3310b5f94f95c47ae51cd, 05d59806e67fa9a5b2747bc1b24842189bba0c45e49d3714549fc5df9838ed20) to (d414b1c72a16512dbd7b3859c9c9f574633578acef74d120490625d9010103c7, 3a363a2456b6b7605347e06d2879162b3008004370f73a68f52523330ccd38a6)\n",
      "Data columns (total 3 columns):\n",
      "origin_code         40873 non-null object\n",
      "destination_code    40873 non-null object\n",
      "itinerary           40873 non-null object\n",
      "dtypes: object(3)\n",
      "memory usage: 39.9+ MB\n"
     ]
    }
   ],
   "source": [
    "pareto_watch_0.info()"
   ]
  },
  {
   "cell_type": "code",
   "execution_count": 81,
   "metadata": {
    "scrolled": true
   },
   "outputs": [],
   "source": [
    "pareto_watch = pareto_watch_0 \\\n",
    "                .groupby(['itinerary']) \\\n",
    "                .size().reset_index() \\\n",
    "                .rename(columns = {0: 'count'}) \\\n",
    "                .sort_values(['count'], ascending = False)"
   ]
  },
  {
   "cell_type": "code",
   "execution_count": 82,
   "metadata": {},
   "outputs": [],
   "source": [
    "pareto_watch.set_index('itinerary', inplace = True)\n",
    "pareto_watch['cumulative_sum'] = pareto_watch['count'].cumsum()\n",
    "pareto_watch['cumulative_perc'] = 100 * pareto_watch['cumulative_sum'] / pareto_watch['count'].sum()"
   ]
  },
  {
   "cell_type": "code",
   "execution_count": 86,
   "metadata": {},
   "outputs": [
    {
     "name": "stdout",
     "output_type": "stream",
     "text": [
      "All observations where the user watched the price but did not book, cover  11697 itineraries. Out of these,   4236  constitute 80% of the whole observation set. That is around  36.2 % of the whole set.\n"
     ]
    }
   ],
   "source": [
    "pareto_watch.loc[pareto_watch['cumulative_perc'] <= 80].shape[0]\n",
    "pareto_watch.shape[0]\n",
    "print('All observations where the user watched the price but did not book, cover ',\n",
    "      pareto_watch.shape[0],\n",
    "      'itineraries. Out of these,  ',\n",
    "      pareto_watch.loc[pareto_watch['cumulative_perc'] <= 80].shape[0],\n",
    "      ' constitute 80% of the whole observation set. That is around ',\n",
    "     round(100 * pareto_watch.loc[pareto_watch['cumulative_perc'] <= 80].shape[0] / pareto_watch.shape[0], 1),\n",
    "     '% of the whole set.')"
   ]
  },
  {
   "cell_type": "markdown",
   "metadata": {},
   "source": [
    "The list gives the biggest airports. This result reassures that it is additionally critical to make reliable estimations for these itineraries. The top 10 itineraries consist only of US destinations showing the importance of the US market. As we have seen in the previous question, a user setting the watch on is a good estimator of an actual booking. Therefore accuracy of price estimations is extra important for the US market. This information could be handy for the data scientists developing algorithms e.g. they can give extra weight to the accuracy of US flights"
   ]
  },
  {
   "cell_type": "markdown",
   "metadata": {},
   "source": [
    "#### Watch vs the Moment the First Search is Done"
   ]
  },
  {
   "cell_type": "markdown",
   "metadata": {},
   "source": [
    "* Here I am looking whether there is significant difference between users with a watch and without in terms of the following two:\n",
    "    * the first price found \n",
    "    * the number of days left to departure as of first search"
   ]
  },
  {
   "cell_type": "code",
   "execution_count": 89,
   "metadata": {},
   "outputs": [],
   "source": [
    "dfw = hoppi5.loc[hoppi5['result'].isnull() == False, ['first_advance', 'first_total', 'watch_bin', 'result']]\n",
    "dfw = dfw.dropna()"
   ]
  },
  {
   "cell_type": "code",
   "execution_count": 92,
   "metadata": {
    "scrolled": true
   },
   "outputs": [
    {
     "data": {
      "text/html": [
       "<div>\n",
       "<style scoped>\n",
       "    .dataframe tbody tr th:only-of-type {\n",
       "        vertical-align: middle;\n",
       "    }\n",
       "\n",
       "    .dataframe tbody tr th {\n",
       "        vertical-align: top;\n",
       "    }\n",
       "\n",
       "    .dataframe thead th {\n",
       "        text-align: right;\n",
       "    }\n",
       "</style>\n",
       "<table border=\"1\" class=\"dataframe\">\n",
       "  <thead>\n",
       "    <tr style=\"text-align: right;\">\n",
       "      <th></th>\n",
       "      <th>first_advance</th>\n",
       "      <th>first_total</th>\n",
       "    </tr>\n",
       "    <tr>\n",
       "      <th>watch_bin</th>\n",
       "      <th></th>\n",
       "      <th></th>\n",
       "    </tr>\n",
       "  </thead>\n",
       "  <tbody>\n",
       "    <tr>\n",
       "      <th>0.0</th>\n",
       "      <td>41.008651</td>\n",
       "      <td>298.630025</td>\n",
       "    </tr>\n",
       "    <tr>\n",
       "      <th>1.0</th>\n",
       "      <td>33.891864</td>\n",
       "      <td>425.278487</td>\n",
       "    </tr>\n",
       "  </tbody>\n",
       "</table>\n",
       "</div>"
      ],
      "text/plain": [
       "           first_advance  first_total\n",
       "watch_bin                            \n",
       "0.0            41.008651   298.630025\n",
       "1.0            33.891864   425.278487"
      ]
     },
     "execution_count": 92,
     "metadata": {},
     "output_type": "execute_result"
    }
   ],
   "source": [
    "dfw.groupby('watch_bin').agg({'first_advance': np.mean, 'first_total': np.mean})"
   ]
  },
  {
   "cell_type": "markdown",
   "metadata": {},
   "source": [
    "* As the data is skewed using non-parametrical tests makes more sense. I use the Mann Whitney test for that purpose\n",
    "* The test reveal significant difference between watched and non-watched itineraries at 0.1 level in terms of the number of days between the departure and the first search. Those who place a watch have a week less time left to their departure compared to the rest. Users may be using hopper as an assistant when they feel like they missed the time window where they could shop for different offers. For those users more frequent notifications can be planned"
   ]
  },
  {
   "cell_type": "code",
   "execution_count": 56,
   "metadata": {},
   "outputs": [
    {
     "name": "stdout",
     "output_type": "stream",
     "text": [
      "Statistics=41274130.000, p=0.074\n"
     ]
    }
   ],
   "source": [
    "stat, p = mannwhitneyu(dfw.loc[dfw['watch_bin'] == 1, 'first_advance'], \n",
    "                       dfw.loc[dfw['watch_bin'] == 0, 'first_advance'])\n",
    "print('Statistics=%.3f, p=%.3f' % (stat, p))"
   ]
  },
  {
   "cell_type": "markdown",
   "metadata": {},
   "source": [
    "* The test on same user groups (those watching vs those who don't) show that they differ in terms of the price they get at their first search. The difference is highly significant given the p-value. \n",
    "* Those who watch have a trip cost of USD125 more on average.\n",
    "* There might be a growth opportunity in budget passengers. When the user makes a first search which reveals a relatively cheap price, Hopper can suggest watching for the same trip with additional services such as business class. If that suggesiton can be supported with a statement like \"business flights for this flight can get as close as $X to the economy fares, why don't you watch?\" the user can be convinced to shop for more."
   ]
  },
  {
   "cell_type": "code",
   "execution_count": 57,
   "metadata": {},
   "outputs": [
    {
     "name": "stdout",
     "output_type": "stream",
     "text": [
      "Statistics=29810391.000, p=0.000\n"
     ]
    }
   ],
   "source": [
    "stat, p = mannwhitneyu(dfw.loc[dfw['watch_bin'] == 1, 'first_total'], \n",
    "                       dfw.loc[dfw['watch_bin'] == 0, 'first_total'])\n",
    "print('Statistics=%.3f, p=%.3f' % (stat, p))"
   ]
  },
  {
   "cell_type": "markdown",
   "metadata": {},
   "source": [
    "### Question 3"
   ]
  },
  {
   "cell_type": "markdown",
   "metadata": {},
   "source": [
    "Chart 1: What is the situation as of now compared to PY?\n",
    "* Note that from the current advance field in the data, I see that we are on April 10th 2018\n",
    "* Expired: Watch is on + Current Date > Departure Date\n",
    "* Inactive: Watch is off + Current Date can be before or after Current Date\n",
    "* Active: Watch is on + Current Date <= Departure Date\n",
    "* Shopped: Watch is on or off + Current Date can be before or after Current Date; the latter of first search and watch date added is equal to the latest_status_change\n",
    "* Booked: "
   ]
  },
  {
   "cell_type": "markdown",
   "metadata": {},
   "source": [
    "#### Chart 1: Number of Incoming / Outgoing / Converted Searches Through Time"
   ]
  },
  {
   "cell_type": "markdown",
   "metadata": {},
   "source": [
    "On a daily basis, I'd like to see the number of \n",
    "* new searches of trips (incoming), \n",
    "* end of validity trips i.e. trips with departure date passing by\n",
    "* converted searches i.e. booked trips\n",
    "\n",
    "<br>\n",
    "Ideally I would like to see the number for these for a given day / time window as well as for the same period prior year (more on this in Q4). howeveer the data covers first searches over a period from 2018 start to April 10th. For illustrative purposes I show the count of the 2 KPIs above throughout the year"
   ]
  },
  {
   "cell_type": "markdown",
   "metadata": {},
   "source": [
    "It is good practive to create date range and join data onto that as the data source may not have data for every day:"
   ]
  },
  {
   "cell_type": "code",
   "execution_count": 97,
   "metadata": {},
   "outputs": [],
   "source": [
    "date_range = pd.date_range(start='1/1/2018', end='04/10/2018', freq='D')\n",
    "df_date = pd.DataFrame(date_range, columns = ['date_range'])\n",
    "df_date.set_index('date_range', inplace = True)"
   ]
  },
  {
   "cell_type": "markdown",
   "metadata": {},
   "source": [
    "incoming traffic counts the number of first time searches each day:"
   ]
  },
  {
   "cell_type": "code",
   "execution_count": 98,
   "metadata": {},
   "outputs": [],
   "source": [
    "hoppi5['first_search_dt_dateonly'] = hoppi5['first_search_dt'].dt.date\n",
    "incoming_traffic = hoppi5.groupby(['first_search_dt_dateonly']) \\\n",
    "                .size().reset_index() \\\n",
    "                .rename(columns = {0: 'count'}) \n",
    "incoming_traffic.set_index('first_search_dt_dateonly', inplace = True)"
   ]
  },
  {
   "cell_type": "markdown",
   "metadata": {},
   "source": [
    "outgoing traffic counts the number of trips with departure within the same day, each day. Until a trip is considered 'outgoing' there is a chance that it can be converted to booking:"
   ]
  },
  {
   "cell_type": "code",
   "execution_count": 99,
   "metadata": {},
   "outputs": [],
   "source": [
    "outgoing_traffic = hoppi5.groupby(['departure_date']) \\\n",
    "                .size().reset_index() \\\n",
    "                .rename(columns = {0: 'count'}) \n",
    "outgoing_traffic.set_index('departure_date', inplace = True)"
   ]
  },
  {
   "cell_type": "markdown",
   "metadata": {},
   "source": [
    "converted traffic is the numbe rof bookings that took place each day i.e. conversions:"
   ]
  },
  {
   "cell_type": "code",
   "execution_count": 100,
   "metadata": {},
   "outputs": [],
   "source": [
    "hoppi5['latest_status_change_dt_dateonly'] = hoppi5['first_search_dt'].dt.date\n",
    "converted_traffic = hoppi5.loc[hoppi5['status_latest'] == 'booked'].groupby(['latest_status_change_dt_dateonly']) \\\n",
    "                .size().reset_index() \\\n",
    "                .rename(columns = {0: 'count'}) \n",
    "converted_traffic.set_index('latest_status_change_dt_dateonly', inplace = True)"
   ]
  },
  {
   "cell_type": "markdown",
   "metadata": {},
   "source": [
    "I join counts on the date range index created above:"
   ]
  },
  {
   "cell_type": "code",
   "execution_count": 101,
   "metadata": {
    "scrolled": true
   },
   "outputs": [],
   "source": [
    "df_chart1 = pd.merge(df_date, incoming_traffic, left_index = True, right_index = True, how='left')\n",
    "df_chart1.rename(columns = {'count': 'incoming_count'}, inplace = True)\n",
    "df_chart2 = pd.merge(df_chart1, outgoing_traffic, left_index = True, right_index = True, how='left')\n",
    "df_chart2.rename(columns = {'count': 'outgoing_count'}, inplace = True)\n",
    "df_chart3 = pd.merge(df_chart2, converted_traffic, left_index = True, right_index = True, how='left')\n",
    "df_chart3.rename(columns = {'count': 'converted_count'}, inplace = True)\n",
    "df_chart3['day'] = df_chart3.index.dayofyear"
   ]
  },
  {
   "cell_type": "code",
   "execution_count": 102,
   "metadata": {},
   "outputs": [],
   "source": [
    "df_chart3_components = [df_chart3[['incoming_count', 'day']].assign(count_type = 'incoming').reset_index(). \\\n",
    "                        rename(columns = {'incoming_count': 'count'}),\n",
    "                     df_chart3[['outgoing_count', 'day']].assign(count_type = 'outgoing').reset_index(). \\\n",
    "                        rename(columns = {'outgoing_count': 'count'}),\n",
    "                     df_chart3[['converted_count', 'day']].assign(count_type = 'converted').reset_index(). \\\n",
    "                        rename(columns = {'converted_count': 'count'})]\n",
    "df_chart4 = pd.concat(df_chart3_components)"
   ]
  },
  {
   "cell_type": "markdown",
   "metadata": {},
   "source": [
    "I plot the chart here below. Note that the data collection seems to have started as of 2018 start. Therefore the outgoing count do not reflect the reality in the early periods of the chart. Also the number of trips whose departure is in the future at a given time could be shown as well. That would show the pool of trips that could be converted at a given time."
   ]
  },
  {
   "cell_type": "code",
   "execution_count": 109,
   "metadata": {
    "scrolled": false
   },
   "outputs": [
    {
     "data": {
      "image/png": "[encoded data removed]",
      "text/plain": [
       "<Figure size 1080x720 with 2 Axes>"
      ]
     },
     "metadata": {},
     "output_type": "display_data"
    }
   ],
   "source": [
    "sns.set_style('dark')\n",
    "fig, ax1 = plt.subplots(figsize=(15,10))\n",
    "ax2 = ax1.twinx()\n",
    "sns.lineplot(x=df_chart3['day'], \n",
    "             y=df_chart3['incoming_count'],\n",
    "             color='#6FC28B',\n",
    "             marker = \"X\",\n",
    "             ax=ax1)\n",
    "sns.lineplot(x=df_chart3['day'], \n",
    "             y=df_chart3['outgoing_count'],\n",
    "             color='#FA6866',\n",
    "             marker=\"v\",\n",
    "             ax=ax1)\n",
    "sns.lineplot(x=df_chart3['day'], \n",
    "             y=df_chart3['converted_count'],\n",
    "             color='#F0A02A',\n",
    "             marker=\"o\",\n",
    "             ax=ax2)\n",
    "fig.legend(['Incoming #', 'Expiring #', 'Converted #'])\n",
    "ax1.set(xlabel='Day of Year', ylabel='Incoming and Expiring Search Count')\n",
    "ax2.set(ylabel='Converted Search Count')\n",
    "plt.title('Number of Incoming / Expiring / Converted Searches by Day', fontsize = 14)\n",
    "plt.show()"
   ]
  },
  {
   "cell_type": "markdown",
   "metadata": {},
   "source": [
    "### Chart 2: KPIs Affecting Conversion - Categorical KPIs"
   ]
  },
  {
   "cell_type": "markdown",
   "metadata": {},
   "source": [
    "Categorical variables that turned out to have an impact on conversion are worth following daily. As I sugegsted for the 1st chart, it makes more sense to compare these with prior year same period figures.\n",
    "In this chart we follow the % of people who\n",
    "* look for a round trip\n",
    "* look for a weekend trip\n",
    "* look for a short layover\n",
    "* have an ongoing watch\n",
    "* have an received a buy suggestion\n",
    "\n",
    "<br>\n",
    "Note that these are all categories that help estimate conversion"
   ]
  },
  {
   "cell_type": "code",
   "execution_count": 117,
   "metadata": {
    "scrolled": true
   },
   "outputs": [],
   "source": [
    "df_chart_perc1 = hoppi5.loc[hoppi5['departure_date'] >= '04-10-2018'].describe() # describe() gives the mean per vcategory. \n",
    "# As they were binary, it gives the %\n",
    "df_chart_perc2 = df_chart_perc1.loc[['mean'], ['round_trip', 'weekend', 'filter_short_layover', 'watch_bin', 'buy']]\n",
    "df_chart_perc2 = df_chart_perc2.transpose().reset_index() # transpose to make it convenient for seaborn notation\n",
    "df_chart_perc2['mean'] = df_chart_perc2['mean'] * 100 # percentages in absolute numbers\n",
    "df_chart_perc2.rename(columns = {'mean':'percentage'}, inplace=True)"
   ]
  },
  {
   "cell_type": "code",
   "execution_count": 137,
   "metadata": {
    "scrolled": false
   },
   "outputs": [
    {
     "data": {
      "image/png": "[encoded data removed]",
      "text/plain": [
       "<Figure size 1080x576 with 1 Axes>"
      ]
     },
     "metadata": {},
     "output_type": "display_data"
    }
   ],
   "source": [
    "sns.set_style('white')\n",
    "fig, ax = plt.subplots(figsize=(15,8))\n",
    "sns.barplot(x=\"index\",\n",
    "            y=\"percentage\", \n",
    "            palette=[\"#FA6866\", \"#01AAE4\", \"#505050\", \"#AAAAAA\", \"#F67096\"],\n",
    "            data=df_chart_perc2,\n",
    "            ax=ax)\n",
    "ax.set(xlabel='Trip Categories', ylabel='% of Qualified Trips')\n",
    "plt.title(\"Percentage of Trips\",fontsize=14)\n",
    "plt.show()"
   ]
  },
  {
   "cell_type": "markdown",
   "metadata": {},
   "source": [
    "### Chart 3: KPIs Affecting Conversion - Ordinal KPIs"
   ]
  },
  {
   "cell_type": "markdown",
   "metadata": {},
   "source": [
    "In a similar vein to the Chart2, I look at KPIs having an impact on conversion here as well. This time I check ordinal variables. Again, it would make more sense to compare with prior year same period figures.\n",
    "In this chart we follow \n",
    "* average difference between the lowest price found and the first price\n",
    "* average difference between the last price and the first price\n",
    "* average difference between the price when a buy recommendation was made and the first price\n",
    "* average number of days between the first search and the departure date\n",
    "\n",
    "<br>\n",
    "Note that these are all categories that help estimate conversion as well."
   ]
  },
  {
   "cell_type": "code",
   "execution_count": 138,
   "metadata": {},
   "outputs": [],
   "source": [
    "df_chart_abs1 = hoppi5.loc[hoppi5['departure_date'] >= '04-10-2018'].describe()\n",
    "df_chart_abs2 = df_chart_abs1.loc[['mean'], ['dif_lowest_first',\n",
    "                                             'dif_last_first', 'dif_buy_first',\n",
    "                                            'first_advance']]\n",
    "df_chart_abs3 = df_chart_abs2.transpose().reset_index()\n",
    "df_chart_abs3.rename(columns = {'mean':'average'}, inplace=True)"
   ]
  },
  {
   "cell_type": "code",
   "execution_count": 148,
   "metadata": {
    "scrolled": false
   },
   "outputs": [
    {
     "data": {
      "image/png": "[encoded data removed]",
      "text/plain": [
       "<Figure size 1080x576 with 2 Axes>"
      ]
     },
     "metadata": {},
     "output_type": "display_data"
    }
   ],
   "source": [
    "fig, (ax1, ax2) = plt.subplots(1, 2, gridspec_kw={'width_ratios': [3, 1]}, figsize=(15,8))\n",
    "\n",
    "sns.barplot(x=df_chart_abs3.loc[df_chart_abs3['index'] != 'first_advance']['index'], \n",
    "             y=df_chart_abs3.loc[df_chart_abs3['index'] != 'first_advance']['average'],\n",
    "             palette=[\"#FA6866\", \"#01AAE4\", \"#505050\"],\n",
    "             ax=ax1)\n",
    "sns.barplot(x=df_chart_abs3.loc[df_chart_abs3['index'] == 'first_advance']['index'], \n",
    "             y=df_chart_abs3.loc[df_chart_abs3['index'] == 'first_advance']['average'],\n",
    "             color='#AAAAAA',\n",
    "             ax=ax2)\n",
    "ax1.set(xlabel='KPIs', ylabel='Average Difference in Prices ($)')\n",
    "ax2.set(ylabel='Average Number of Days')\n",
    "ax1.set_title('Trips by Absolute Numbers', fontsize = 14)\n",
    "plt.show()"
   ]
  },
  {
   "cell_type": "markdown",
   "metadata": {},
   "source": [
    "### Question 4"
   ]
  },
  {
   "cell_type": "markdown",
   "metadata": {},
   "source": [
    "* I should have the history on every trip - user. That would enable insight in 2 main fields:\n",
    "    * Communication Strategy: Recording of every update related to a user - trip allows:\n",
    "        * to understand after how many notifications...\n",
    "            * a booking takes place\n",
    "            * a watch is canceled\n",
    "        * Year on Year (YoY) comparisons: A record with active status now could have been inactive at a certain point of time as the user can enable / disable watch at different times. As a result, a YoY comparison of records in terms of their statuses is not possible with the information in hand\n",
    "* I would also like to have this data for a longer period to identify returning customers, frequent flyers for whom I could develop new features"
   ]
  },
  {
   "cell_type": "code",
   "execution_count": null,
   "metadata": {},
   "outputs": [],
   "source": []
  }
 ],
 "metadata": {
  "kernelspec": {
   "display_name": "Python 3",
   "language": "python",
   "name": "python3"
  },
  "language_info": {
   "codemirror_mode": {
    "name": "ipython",
    "version": 3
   },
   "file_extension": ".py",
   "mimetype": "text/x-python",
   "name": "python",
   "nbconvert_exporter": "python",
   "pygments_lexer": "ipython3",
   "version": "3.7.3"
  }
 },
 "nbformat": 4,
 "nbformat_minor": 2
}
